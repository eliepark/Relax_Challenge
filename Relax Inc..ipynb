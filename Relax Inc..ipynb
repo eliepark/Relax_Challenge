{
 "cells": [
  {
   "cell_type": "code",
   "execution_count": 129,
   "id": "6b2bd6d4",
   "metadata": {},
   "outputs": [],
   "source": [
    "import pandas as pd\n",
    "import numpy as np\n",
    "import matplotlib.pyplot as plt\n",
    "import seaborn as sns"
   ]
  },
  {
   "cell_type": "code",
   "execution_count": 58,
   "id": "1f18fb89",
   "metadata": {
    "scrolled": false
   },
   "outputs": [
    {
     "data": {
      "text/html": [
       "<div>\n",
       "<style scoped>\n",
       "    .dataframe tbody tr th:only-of-type {\n",
       "        vertical-align: middle;\n",
       "    }\n",
       "\n",
       "    .dataframe tbody tr th {\n",
       "        vertical-align: top;\n",
       "    }\n",
       "\n",
       "    .dataframe thead th {\n",
       "        text-align: right;\n",
       "    }\n",
       "</style>\n",
       "<table border=\"1\" class=\"dataframe\">\n",
       "  <thead>\n",
       "    <tr style=\"text-align: right;\">\n",
       "      <th></th>\n",
       "      <th>object_id</th>\n",
       "      <th>creation_time</th>\n",
       "      <th>name</th>\n",
       "      <th>email</th>\n",
       "      <th>creation_source</th>\n",
       "      <th>last_session_creation_time</th>\n",
       "      <th>opted_in_to_mailing_list</th>\n",
       "      <th>enabled_for_marketing_drip</th>\n",
       "      <th>org_id</th>\n",
       "      <th>invited_by_user_id</th>\n",
       "    </tr>\n",
       "  </thead>\n",
       "  <tbody>\n",
       "    <tr>\n",
       "      <th>0</th>\n",
       "      <td>1</td>\n",
       "      <td>2014-04-22 03:53:30</td>\n",
       "      <td>Clausen August</td>\n",
       "      <td>AugustCClausen@yahoo.com</td>\n",
       "      <td>GUEST_INVITE</td>\n",
       "      <td>1.398139e+09</td>\n",
       "      <td>1</td>\n",
       "      <td>0</td>\n",
       "      <td>11</td>\n",
       "      <td>10803.0</td>\n",
       "    </tr>\n",
       "    <tr>\n",
       "      <th>1</th>\n",
       "      <td>2</td>\n",
       "      <td>2013-11-15 03:45:04</td>\n",
       "      <td>Poole Matthew</td>\n",
       "      <td>MatthewPoole@gustr.com</td>\n",
       "      <td>ORG_INVITE</td>\n",
       "      <td>1.396238e+09</td>\n",
       "      <td>0</td>\n",
       "      <td>0</td>\n",
       "      <td>1</td>\n",
       "      <td>316.0</td>\n",
       "    </tr>\n",
       "    <tr>\n",
       "      <th>2</th>\n",
       "      <td>3</td>\n",
       "      <td>2013-03-19 23:14:52</td>\n",
       "      <td>Bottrill Mitchell</td>\n",
       "      <td>MitchellBottrill@gustr.com</td>\n",
       "      <td>ORG_INVITE</td>\n",
       "      <td>1.363735e+09</td>\n",
       "      <td>0</td>\n",
       "      <td>0</td>\n",
       "      <td>94</td>\n",
       "      <td>1525.0</td>\n",
       "    </tr>\n",
       "    <tr>\n",
       "      <th>3</th>\n",
       "      <td>4</td>\n",
       "      <td>2013-05-21 08:09:28</td>\n",
       "      <td>Clausen Nicklas</td>\n",
       "      <td>NicklasSClausen@yahoo.com</td>\n",
       "      <td>GUEST_INVITE</td>\n",
       "      <td>1.369210e+09</td>\n",
       "      <td>0</td>\n",
       "      <td>0</td>\n",
       "      <td>1</td>\n",
       "      <td>5151.0</td>\n",
       "    </tr>\n",
       "    <tr>\n",
       "      <th>4</th>\n",
       "      <td>5</td>\n",
       "      <td>2013-01-17 10:14:20</td>\n",
       "      <td>Raw Grace</td>\n",
       "      <td>GraceRaw@yahoo.com</td>\n",
       "      <td>GUEST_INVITE</td>\n",
       "      <td>1.358850e+09</td>\n",
       "      <td>0</td>\n",
       "      <td>0</td>\n",
       "      <td>193</td>\n",
       "      <td>5240.0</td>\n",
       "    </tr>\n",
       "  </tbody>\n",
       "</table>\n",
       "</div>"
      ],
      "text/plain": [
       "   object_id        creation_time               name  \\\n",
       "0          1  2014-04-22 03:53:30     Clausen August   \n",
       "1          2  2013-11-15 03:45:04      Poole Matthew   \n",
       "2          3  2013-03-19 23:14:52  Bottrill Mitchell   \n",
       "3          4  2013-05-21 08:09:28    Clausen Nicklas   \n",
       "4          5  2013-01-17 10:14:20          Raw Grace   \n",
       "\n",
       "                        email creation_source  last_session_creation_time  \\\n",
       "0    AugustCClausen@yahoo.com    GUEST_INVITE                1.398139e+09   \n",
       "1      MatthewPoole@gustr.com      ORG_INVITE                1.396238e+09   \n",
       "2  MitchellBottrill@gustr.com      ORG_INVITE                1.363735e+09   \n",
       "3   NicklasSClausen@yahoo.com    GUEST_INVITE                1.369210e+09   \n",
       "4          GraceRaw@yahoo.com    GUEST_INVITE                1.358850e+09   \n",
       "\n",
       "   opted_in_to_mailing_list  enabled_for_marketing_drip  org_id  \\\n",
       "0                         1                           0      11   \n",
       "1                         0                           0       1   \n",
       "2                         0                           0      94   \n",
       "3                         0                           0       1   \n",
       "4                         0                           0     193   \n",
       "\n",
       "   invited_by_user_id  \n",
       "0             10803.0  \n",
       "1               316.0  \n",
       "2              1525.0  \n",
       "3              5151.0  \n",
       "4              5240.0  "
      ]
     },
     "execution_count": 58,
     "metadata": {},
     "output_type": "execute_result"
    }
   ],
   "source": [
    "users=pd.read_csv('takehome_users.csv', encoding='latin-1')\n",
    "users.head()"
   ]
  },
  {
   "cell_type": "code",
   "execution_count": 59,
   "id": "5b3aba9f",
   "metadata": {
    "scrolled": false
   },
   "outputs": [
    {
     "data": {
      "text/plain": [
       "object_id                        0\n",
       "creation_time                    0\n",
       "name                             0\n",
       "email                            0\n",
       "creation_source                  0\n",
       "last_session_creation_time    3177\n",
       "opted_in_to_mailing_list         0\n",
       "enabled_for_marketing_drip       0\n",
       "org_id                           0\n",
       "invited_by_user_id            5583\n",
       "dtype: int64"
      ]
     },
     "execution_count": 59,
     "metadata": {},
     "output_type": "execute_result"
    }
   ],
   "source": [
    "users.isna().sum()"
   ]
  },
  {
   "cell_type": "code",
   "execution_count": 63,
   "id": "2994ed5e",
   "metadata": {},
   "outputs": [],
   "source": [
    "users.last_session_creation_time=pd.to_datetime(users.last_session_creation_time, unit='s')"
   ]
  },
  {
   "cell_type": "code",
   "execution_count": 66,
   "id": "476e733b",
   "metadata": {
    "scrolled": false
   },
   "outputs": [
    {
     "data": {
      "text/plain": [
       "0       2014-04-22 03:53:30\n",
       "1       2014-03-31 03:45:04\n",
       "2       2013-03-19 23:14:52\n",
       "3       2013-05-22 08:09:28\n",
       "4       2013-01-22 10:14:20\n",
       "                ...        \n",
       "11995   2013-09-06 06:14:15\n",
       "11996   2013-01-15 18:28:37\n",
       "11997   2014-04-27 12:45:16\n",
       "11998   2012-06-02 11:55:59\n",
       "11999   2014-01-26 08:57:12\n",
       "Name: last_session_creation_time, Length: 12000, dtype: datetime64[ns]"
      ]
     },
     "execution_count": 66,
     "metadata": {},
     "output_type": "execute_result"
    }
   ],
   "source": [
    "users.last_session_creation_time"
   ]
  },
  {
   "cell_type": "code",
   "execution_count": 67,
   "id": "d8f316a7",
   "metadata": {},
   "outputs": [],
   "source": [
    "users=users[~users.last_session_creation_time.isna()]"
   ]
  },
  {
   "cell_type": "code",
   "execution_count": 68,
   "id": "cd52b36e",
   "metadata": {
    "scrolled": false
   },
   "outputs": [
    {
     "data": {
      "text/plain": [
       "object_id                              int64\n",
       "creation_time                         object\n",
       "name                                  object\n",
       "email                                 object\n",
       "creation_source                       object\n",
       "last_session_creation_time    datetime64[ns]\n",
       "opted_in_to_mailing_list               int64\n",
       "enabled_for_marketing_drip             int64\n",
       "org_id                                 int64\n",
       "invited_by_user_id                   float64\n",
       "dtype: object"
      ]
     },
     "execution_count": 68,
     "metadata": {},
     "output_type": "execute_result"
    }
   ],
   "source": [
    "users.dtypes"
   ]
  },
  {
   "cell_type": "code",
   "execution_count": 72,
   "id": "cd71d741",
   "metadata": {},
   "outputs": [],
   "source": [
    "users.creation_time=users.creation_time.astype('datetime64[ns]')\n",
    "users['usage_time']=users.last_session_creation_time-users.creation_time"
   ]
  },
  {
   "cell_type": "code",
   "execution_count": 73,
   "id": "fab084d5",
   "metadata": {
    "scrolled": false
   },
   "outputs": [
    {
     "data": {
      "text/plain": [
       "0     0 days\n",
       "1   136 days\n",
       "2     0 days\n",
       "3     1 days\n",
       "4     5 days\n",
       "Name: usage_time, dtype: timedelta64[ns]"
      ]
     },
     "execution_count": 73,
     "metadata": {},
     "output_type": "execute_result"
    }
   ],
   "source": [
    "users.usage_time.head()"
   ]
  },
  {
   "cell_type": "code",
   "execution_count": 78,
   "id": "33dcf5f8",
   "metadata": {},
   "outputs": [
    {
     "data": {
      "text/html": [
       "<div>\n",
       "<style scoped>\n",
       "    .dataframe tbody tr th:only-of-type {\n",
       "        vertical-align: middle;\n",
       "    }\n",
       "\n",
       "    .dataframe tbody tr th {\n",
       "        vertical-align: top;\n",
       "    }\n",
       "\n",
       "    .dataframe thead th {\n",
       "        text-align: right;\n",
       "    }\n",
       "</style>\n",
       "<table border=\"1\" class=\"dataframe\">\n",
       "  <thead>\n",
       "    <tr style=\"text-align: right;\">\n",
       "      <th></th>\n",
       "      <th>object_id</th>\n",
       "      <th>creation_time</th>\n",
       "      <th>name</th>\n",
       "      <th>email</th>\n",
       "      <th>creation_source</th>\n",
       "      <th>last_session_creation_time</th>\n",
       "      <th>opted_in_to_mailing_list</th>\n",
       "      <th>enabled_for_marketing_drip</th>\n",
       "      <th>org_id</th>\n",
       "      <th>invited_by_user_id</th>\n",
       "      <th>usage_time</th>\n",
       "    </tr>\n",
       "  </thead>\n",
       "  <tbody>\n",
       "    <tr>\n",
       "      <th>4955</th>\n",
       "      <td>4956</td>\n",
       "      <td>2013-01-28 23:21:34</td>\n",
       "      <td>Mueller Klaus</td>\n",
       "      <td>KlausMueller@gustr.com</td>\n",
       "      <td>GUEST_INVITE</td>\n",
       "      <td>2013-01-28 23:21:34</td>\n",
       "      <td>1</td>\n",
       "      <td>0</td>\n",
       "      <td>19</td>\n",
       "      <td>3225.0</td>\n",
       "      <td>0 days</td>\n",
       "    </tr>\n",
       "    <tr>\n",
       "      <th>6705</th>\n",
       "      <td>6706</td>\n",
       "      <td>2012-06-27 06:19:12</td>\n",
       "      <td>Gerste Ulrike</td>\n",
       "      <td>UlrikeGerste@gmail.com</td>\n",
       "      <td>SIGNUP_GOOGLE_AUTH</td>\n",
       "      <td>2012-06-27 06:19:12</td>\n",
       "      <td>0</td>\n",
       "      <td>1</td>\n",
       "      <td>333</td>\n",
       "      <td>NaN</td>\n",
       "      <td>0 days</td>\n",
       "    </tr>\n",
       "    <tr>\n",
       "      <th>7603</th>\n",
       "      <td>7604</td>\n",
       "      <td>2014-03-06 20:34:32</td>\n",
       "      <td>Seiler Marko</td>\n",
       "      <td>MarkoSeiler@yahoo.com</td>\n",
       "      <td>SIGNUP</td>\n",
       "      <td>2014-03-06 20:34:32</td>\n",
       "      <td>0</td>\n",
       "      <td>0</td>\n",
       "      <td>258</td>\n",
       "      <td>NaN</td>\n",
       "      <td>0 days</td>\n",
       "    </tr>\n",
       "    <tr>\n",
       "      <th>11244</th>\n",
       "      <td>11245</td>\n",
       "      <td>2014-01-17 18:05:15</td>\n",
       "      <td>Neudorf Kerstin</td>\n",
       "      <td>KerstinNeudorf@gmail.com</td>\n",
       "      <td>SIGNUP</td>\n",
       "      <td>2014-01-17 18:05:15</td>\n",
       "      <td>1</td>\n",
       "      <td>1</td>\n",
       "      <td>68</td>\n",
       "      <td>NaN</td>\n",
       "      <td>0 days</td>\n",
       "    </tr>\n",
       "  </tbody>\n",
       "</table>\n",
       "</div>"
      ],
      "text/plain": [
       "       object_id       creation_time             name  \\\n",
       "4955        4956 2013-01-28 23:21:34    Mueller Klaus   \n",
       "6705        6706 2012-06-27 06:19:12    Gerste Ulrike   \n",
       "7603        7604 2014-03-06 20:34:32     Seiler Marko   \n",
       "11244      11245 2014-01-17 18:05:15  Neudorf Kerstin   \n",
       "\n",
       "                          email     creation_source  \\\n",
       "4955     KlausMueller@gustr.com        GUEST_INVITE   \n",
       "6705     UlrikeGerste@gmail.com  SIGNUP_GOOGLE_AUTH   \n",
       "7603      MarkoSeiler@yahoo.com              SIGNUP   \n",
       "11244  KerstinNeudorf@gmail.com              SIGNUP   \n",
       "\n",
       "      last_session_creation_time  opted_in_to_mailing_list  \\\n",
       "4955         2013-01-28 23:21:34                         1   \n",
       "6705         2012-06-27 06:19:12                         0   \n",
       "7603         2014-03-06 20:34:32                         0   \n",
       "11244        2014-01-17 18:05:15                         1   \n",
       "\n",
       "       enabled_for_marketing_drip  org_id  invited_by_user_id usage_time  \n",
       "4955                            0      19              3225.0     0 days  \n",
       "6705                            1     333                 NaN     0 days  \n",
       "7603                            0     258                 NaN     0 days  \n",
       "11244                           1      68                 NaN     0 days  "
      ]
     },
     "execution_count": 78,
     "metadata": {},
     "output_type": "execute_result"
    }
   ],
   "source": [
    "users[(users.usage_time=='0D')&(users.email.duplicated())]"
   ]
  },
  {
   "cell_type": "code",
   "execution_count": 80,
   "id": "778235fd",
   "metadata": {
    "scrolled": true
   },
   "outputs": [
    {
     "data": {
      "text/plain": [
       "13"
      ]
     },
     "execution_count": 80,
     "metadata": {},
     "output_type": "execute_result"
    }
   ],
   "source": [
    "users.email.duplicated().sum()"
   ]
  },
  {
   "cell_type": "code",
   "execution_count": 81,
   "id": "afbb58dc",
   "metadata": {},
   "outputs": [],
   "source": [
    "users=users[~users.email.duplicated()]"
   ]
  },
  {
   "cell_type": "code",
   "execution_count": 82,
   "id": "0e3c3b0e",
   "metadata": {},
   "outputs": [
    {
     "data": {
      "text/plain": [
       "4039"
      ]
     },
     "execution_count": 82,
     "metadata": {},
     "output_type": "execute_result"
    }
   ],
   "source": [
    "users.invited_by_user_id.isna().sum()"
   ]
  },
  {
   "cell_type": "code",
   "execution_count": 83,
   "id": "e85b9dd7",
   "metadata": {},
   "outputs": [
    {
     "data": {
      "text/plain": [
       "0        False\n",
       "1        False\n",
       "2        False\n",
       "3        False\n",
       "4        False\n",
       "         ...  \n",
       "11995    False\n",
       "11996     True\n",
       "11997    False\n",
       "11998     True\n",
       "11999     True\n",
       "Name: invited_by_user_id, Length: 8810, dtype: bool"
      ]
     },
     "execution_count": 83,
     "metadata": {},
     "output_type": "execute_result"
    }
   ],
   "source": [
    "users.invited_by_user_id.isnull()"
   ]
  },
  {
   "cell_type": "code",
   "execution_count": 84,
   "id": "ae711e6b",
   "metadata": {},
   "outputs": [],
   "source": [
    "users['invited_by_user']=users.invited_by_user_id.apply(lambda x: 0 if pd.isna(x) else 1)"
   ]
  },
  {
   "cell_type": "code",
   "execution_count": 85,
   "id": "9efec1eb",
   "metadata": {
    "scrolled": true
   },
   "outputs": [
    {
     "data": {
      "text/html": [
       "<div>\n",
       "<style scoped>\n",
       "    .dataframe tbody tr th:only-of-type {\n",
       "        vertical-align: middle;\n",
       "    }\n",
       "\n",
       "    .dataframe tbody tr th {\n",
       "        vertical-align: top;\n",
       "    }\n",
       "\n",
       "    .dataframe thead th {\n",
       "        text-align: right;\n",
       "    }\n",
       "</style>\n",
       "<table border=\"1\" class=\"dataframe\">\n",
       "  <thead>\n",
       "    <tr style=\"text-align: right;\">\n",
       "      <th></th>\n",
       "      <th>object_id</th>\n",
       "      <th>opted_in_to_mailing_list</th>\n",
       "      <th>enabled_for_marketing_drip</th>\n",
       "      <th>org_id</th>\n",
       "      <th>invited_by_user_id</th>\n",
       "      <th>usage_time</th>\n",
       "      <th>invited_by_user</th>\n",
       "    </tr>\n",
       "  </thead>\n",
       "  <tbody>\n",
       "    <tr>\n",
       "      <th>count</th>\n",
       "      <td>8810.000000</td>\n",
       "      <td>8810.000000</td>\n",
       "      <td>8810.000000</td>\n",
       "      <td>8810.000000</td>\n",
       "      <td>4771.000000</td>\n",
       "      <td>8810</td>\n",
       "      <td>8810.000000</td>\n",
       "    </tr>\n",
       "    <tr>\n",
       "      <th>mean</th>\n",
       "      <td>6017.930306</td>\n",
       "      <td>0.252100</td>\n",
       "      <td>0.151759</td>\n",
       "      <td>142.497843</td>\n",
       "      <td>5982.272899</td>\n",
       "      <td>59 days 07:11:10.964812713</td>\n",
       "      <td>0.541544</td>\n",
       "    </tr>\n",
       "    <tr>\n",
       "      <th>std</th>\n",
       "      <td>3464.891278</td>\n",
       "      <td>0.434243</td>\n",
       "      <td>0.358808</td>\n",
       "      <td>124.180053</td>\n",
       "      <td>3393.114550</td>\n",
       "      <td>144 days 06:19:26.708544454</td>\n",
       "      <td>0.498299</td>\n",
       "    </tr>\n",
       "    <tr>\n",
       "      <th>min</th>\n",
       "      <td>1.000000</td>\n",
       "      <td>0.000000</td>\n",
       "      <td>0.000000</td>\n",
       "      <td>0.000000</td>\n",
       "      <td>3.000000</td>\n",
       "      <td>0 days 00:00:00</td>\n",
       "      <td>0.000000</td>\n",
       "    </tr>\n",
       "    <tr>\n",
       "      <th>25%</th>\n",
       "      <td>3014.250000</td>\n",
       "      <td>0.000000</td>\n",
       "      <td>0.000000</td>\n",
       "      <td>30.000000</td>\n",
       "      <td>3074.000000</td>\n",
       "      <td>0 days 00:00:00</td>\n",
       "      <td>0.000000</td>\n",
       "    </tr>\n",
       "    <tr>\n",
       "      <th>50%</th>\n",
       "      <td>6032.500000</td>\n",
       "      <td>0.000000</td>\n",
       "      <td>0.000000</td>\n",
       "      <td>109.000000</td>\n",
       "      <td>5952.000000</td>\n",
       "      <td>1 days 00:00:00</td>\n",
       "      <td>1.000000</td>\n",
       "    </tr>\n",
       "    <tr>\n",
       "      <th>75%</th>\n",
       "      <td>9028.250000</td>\n",
       "      <td>1.000000</td>\n",
       "      <td>0.000000</td>\n",
       "      <td>239.000000</td>\n",
       "      <td>8857.500000</td>\n",
       "      <td>20 days 00:00:00</td>\n",
       "      <td>1.000000</td>\n",
       "    </tr>\n",
       "    <tr>\n",
       "      <th>max</th>\n",
       "      <td>12000.000000</td>\n",
       "      <td>1.000000</td>\n",
       "      <td>1.000000</td>\n",
       "      <td>416.000000</td>\n",
       "      <td>11999.000000</td>\n",
       "      <td>729 days 00:00:00</td>\n",
       "      <td>1.000000</td>\n",
       "    </tr>\n",
       "  </tbody>\n",
       "</table>\n",
       "</div>"
      ],
      "text/plain": [
       "          object_id  opted_in_to_mailing_list  enabled_for_marketing_drip  \\\n",
       "count   8810.000000               8810.000000                 8810.000000   \n",
       "mean    6017.930306                  0.252100                    0.151759   \n",
       "std     3464.891278                  0.434243                    0.358808   \n",
       "min        1.000000                  0.000000                    0.000000   \n",
       "25%     3014.250000                  0.000000                    0.000000   \n",
       "50%     6032.500000                  0.000000                    0.000000   \n",
       "75%     9028.250000                  1.000000                    0.000000   \n",
       "max    12000.000000                  1.000000                    1.000000   \n",
       "\n",
       "            org_id  invited_by_user_id                   usage_time  \\\n",
       "count  8810.000000         4771.000000                         8810   \n",
       "mean    142.497843         5982.272899   59 days 07:11:10.964812713   \n",
       "std     124.180053         3393.114550  144 days 06:19:26.708544454   \n",
       "min       0.000000            3.000000              0 days 00:00:00   \n",
       "25%      30.000000         3074.000000              0 days 00:00:00   \n",
       "50%     109.000000         5952.000000              1 days 00:00:00   \n",
       "75%     239.000000         8857.500000             20 days 00:00:00   \n",
       "max     416.000000        11999.000000            729 days 00:00:00   \n",
       "\n",
       "       invited_by_user  \n",
       "count      8810.000000  \n",
       "mean          0.541544  \n",
       "std           0.498299  \n",
       "min           0.000000  \n",
       "25%           0.000000  \n",
       "50%           1.000000  \n",
       "75%           1.000000  \n",
       "max           1.000000  "
      ]
     },
     "execution_count": 85,
     "metadata": {},
     "output_type": "execute_result"
    }
   ],
   "source": [
    "users.describe()"
   ]
  },
  {
   "cell_type": "markdown",
   "id": "f94c0672",
   "metadata": {},
   "source": [
    "Object ID starts from 1 and invited_by_user starts from 3, so we can fill in null invited_by_user_id with 0, meaning the corresponding the user was not invited by anyone else in the database."
   ]
  },
  {
   "cell_type": "code",
   "execution_count": 88,
   "id": "45927a86",
   "metadata": {},
   "outputs": [],
   "source": [
    "users.invited_by_user_id.fillna(0, inplace=True)"
   ]
  },
  {
   "cell_type": "code",
   "execution_count": 89,
   "id": "dab44b48",
   "metadata": {},
   "outputs": [],
   "source": [
    "users.invited_by_user_id=users.invited_by_user_id.astype(int)"
   ]
  },
  {
   "cell_type": "code",
   "execution_count": 90,
   "id": "0d0d8377",
   "metadata": {
    "scrolled": true
   },
   "outputs": [
    {
     "data": {
      "text/plain": [
       "Int64Index([    0,  4612, 11770,  2308,  3721,  4302,  3261, 10741,  6706,\n",
       "             2354,\n",
       "            ...\n",
       "            10823,  5521,  2156,  1458,  6110,  6455,  3689,  1255,  6420,\n",
       "             5093],\n",
       "           dtype='int64', length=2228)"
      ]
     },
     "execution_count": 90,
     "metadata": {},
     "output_type": "execute_result"
    }
   ],
   "source": [
    "users.invited_by_user_id.value_counts().index"
   ]
  },
  {
   "cell_type": "code",
   "execution_count": 91,
   "id": "45dfd468",
   "metadata": {},
   "outputs": [
    {
     "data": {
      "text/plain": [
       "array([4039,   10,    9, ...,    1,    1,    1])"
      ]
     },
     "execution_count": 91,
     "metadata": {},
     "output_type": "execute_result"
    }
   ],
   "source": [
    "users.invited_by_user_id.value_counts().values"
   ]
  },
  {
   "cell_type": "code",
   "execution_count": 92,
   "id": "cb0fa4e3",
   "metadata": {},
   "outputs": [],
   "source": [
    "d=users.invited_by_user_id.value_counts().to_dict()"
   ]
  },
  {
   "cell_type": "code",
   "execution_count": 93,
   "id": "e057e11b",
   "metadata": {},
   "outputs": [
    {
     "data": {
      "text/plain": [
       "4039"
      ]
     },
     "execution_count": 93,
     "metadata": {},
     "output_type": "execute_result"
    }
   ],
   "source": [
    "d.pop(0)"
   ]
  },
  {
   "cell_type": "code",
   "execution_count": 94,
   "id": "7544a8b3",
   "metadata": {},
   "outputs": [],
   "source": [
    "users['invitees']=users.object_id.map(d).fillna(0).astype(int)"
   ]
  },
  {
   "cell_type": "code",
   "execution_count": 95,
   "id": "6ed9da27",
   "metadata": {
    "scrolled": true
   },
   "outputs": [
    {
     "data": {
      "text/html": [
       "<div>\n",
       "<style scoped>\n",
       "    .dataframe tbody tr th:only-of-type {\n",
       "        vertical-align: middle;\n",
       "    }\n",
       "\n",
       "    .dataframe tbody tr th {\n",
       "        vertical-align: top;\n",
       "    }\n",
       "\n",
       "    .dataframe thead th {\n",
       "        text-align: right;\n",
       "    }\n",
       "</style>\n",
       "<table border=\"1\" class=\"dataframe\">\n",
       "  <thead>\n",
       "    <tr style=\"text-align: right;\">\n",
       "      <th></th>\n",
       "      <th>object_id</th>\n",
       "      <th>invited_by_user</th>\n",
       "      <th>invitees</th>\n",
       "    </tr>\n",
       "  </thead>\n",
       "  <tbody>\n",
       "    <tr>\n",
       "      <th>0</th>\n",
       "      <td>1</td>\n",
       "      <td>1</td>\n",
       "      <td>0</td>\n",
       "    </tr>\n",
       "    <tr>\n",
       "      <th>1</th>\n",
       "      <td>2</td>\n",
       "      <td>1</td>\n",
       "      <td>0</td>\n",
       "    </tr>\n",
       "    <tr>\n",
       "      <th>2</th>\n",
       "      <td>3</td>\n",
       "      <td>1</td>\n",
       "      <td>1</td>\n",
       "    </tr>\n",
       "    <tr>\n",
       "      <th>3</th>\n",
       "      <td>4</td>\n",
       "      <td>1</td>\n",
       "      <td>0</td>\n",
       "    </tr>\n",
       "    <tr>\n",
       "      <th>4</th>\n",
       "      <td>5</td>\n",
       "      <td>1</td>\n",
       "      <td>0</td>\n",
       "    </tr>\n",
       "  </tbody>\n",
       "</table>\n",
       "</div>"
      ],
      "text/plain": [
       "   object_id  invited_by_user  invitees\n",
       "0          1                1         0\n",
       "1          2                1         0\n",
       "2          3                1         1\n",
       "3          4                1         0\n",
       "4          5                1         0"
      ]
     },
     "execution_count": 95,
     "metadata": {},
     "output_type": "execute_result"
    }
   ],
   "source": [
    "users[['object_id', 'invited_by_user', 'invitees']].head()"
   ]
  },
  {
   "cell_type": "code",
   "execution_count": 96,
   "id": "b2c83988",
   "metadata": {},
   "outputs": [
    {
     "data": {
      "text/plain": [
       "4611    10\n",
       "Name: invitees, dtype: int64"
      ]
     },
     "execution_count": 96,
     "metadata": {},
     "output_type": "execute_result"
    }
   ],
   "source": [
    "users[users.object_id==4612].invitees"
   ]
  },
  {
   "cell_type": "code",
   "execution_count": 97,
   "id": "4e879adc",
   "metadata": {},
   "outputs": [
    {
     "data": {
      "text/plain": [
       "False"
      ]
     },
     "execution_count": 97,
     "metadata": {},
     "output_type": "execute_result"
    }
   ],
   "source": [
    "users.duplicated().any()"
   ]
  },
  {
   "cell_type": "code",
   "execution_count": 98,
   "id": "f896b8ba",
   "metadata": {},
   "outputs": [
    {
     "data": {
      "text/html": [
       "<div>\n",
       "<style scoped>\n",
       "    .dataframe tbody tr th:only-of-type {\n",
       "        vertical-align: middle;\n",
       "    }\n",
       "\n",
       "    .dataframe tbody tr th {\n",
       "        vertical-align: top;\n",
       "    }\n",
       "\n",
       "    .dataframe thead th {\n",
       "        text-align: right;\n",
       "    }\n",
       "</style>\n",
       "<table border=\"1\" class=\"dataframe\">\n",
       "  <thead>\n",
       "    <tr style=\"text-align: right;\">\n",
       "      <th></th>\n",
       "      <th>object_id</th>\n",
       "      <th>creation_time</th>\n",
       "      <th>name</th>\n",
       "      <th>email</th>\n",
       "      <th>creation_source</th>\n",
       "      <th>last_session_creation_time</th>\n",
       "      <th>opted_in_to_mailing_list</th>\n",
       "      <th>enabled_for_marketing_drip</th>\n",
       "      <th>org_id</th>\n",
       "      <th>invited_by_user_id</th>\n",
       "      <th>usage_time</th>\n",
       "      <th>invited_by_user</th>\n",
       "      <th>invitees</th>\n",
       "    </tr>\n",
       "  </thead>\n",
       "  <tbody>\n",
       "    <tr>\n",
       "      <th>885</th>\n",
       "      <td>886</td>\n",
       "      <td>2013-11-10 12:34:07</td>\n",
       "      <td>Araujo Gabriela</td>\n",
       "      <td>GabrielaCorreiaAraujo@jourrapide.com</td>\n",
       "      <td>ORG_INVITE</td>\n",
       "      <td>2013-11-10 12:34:07</td>\n",
       "      <td>0</td>\n",
       "      <td>0</td>\n",
       "      <td>54</td>\n",
       "      <td>4118</td>\n",
       "      <td>0 days</td>\n",
       "      <td>1</td>\n",
       "      <td>0</td>\n",
       "    </tr>\n",
       "    <tr>\n",
       "      <th>917</th>\n",
       "      <td>918</td>\n",
       "      <td>2012-11-23 06:32:45</td>\n",
       "      <td>Araujo Gabriela</td>\n",
       "      <td>GabrielaDiasAraujo@cuvox.de</td>\n",
       "      <td>SIGNUP</td>\n",
       "      <td>2012-11-23 06:32:45</td>\n",
       "      <td>1</td>\n",
       "      <td>0</td>\n",
       "      <td>40</td>\n",
       "      <td>0</td>\n",
       "      <td>0 days</td>\n",
       "      <td>0</td>\n",
       "      <td>0</td>\n",
       "    </tr>\n",
       "    <tr>\n",
       "      <th>1381</th>\n",
       "      <td>1382</td>\n",
       "      <td>2012-09-23 09:03:41</td>\n",
       "      <td>Castro Eduarda</td>\n",
       "      <td>EduardaRochaCastro@hotmail.com</td>\n",
       "      <td>GUEST_INVITE</td>\n",
       "      <td>2012-09-23 09:03:41</td>\n",
       "      <td>0</td>\n",
       "      <td>0</td>\n",
       "      <td>33</td>\n",
       "      <td>1811</td>\n",
       "      <td>0 days</td>\n",
       "      <td>1</td>\n",
       "      <td>2</td>\n",
       "    </tr>\n",
       "    <tr>\n",
       "      <th>1438</th>\n",
       "      <td>1439</td>\n",
       "      <td>2013-05-25 12:20:34</td>\n",
       "      <td>Ribeiro Nicolash</td>\n",
       "      <td>NicolashFernandesRibeiro@hotmail.com</td>\n",
       "      <td>ORG_INVITE</td>\n",
       "      <td>2013-06-16 12:20:34</td>\n",
       "      <td>0</td>\n",
       "      <td>0</td>\n",
       "      <td>33</td>\n",
       "      <td>1481</td>\n",
       "      <td>22 days</td>\n",
       "      <td>1</td>\n",
       "      <td>0</td>\n",
       "    </tr>\n",
       "    <tr>\n",
       "      <th>1484</th>\n",
       "      <td>1485</td>\n",
       "      <td>2013-05-07 06:24:00</td>\n",
       "      <td>Poulsen Torben</td>\n",
       "      <td>TorbenRPoulsen@hotmail.com</td>\n",
       "      <td>ORG_INVITE</td>\n",
       "      <td>2014-06-04 06:24:00</td>\n",
       "      <td>1</td>\n",
       "      <td>0</td>\n",
       "      <td>17</td>\n",
       "      <td>2026</td>\n",
       "      <td>393 days</td>\n",
       "      <td>1</td>\n",
       "      <td>0</td>\n",
       "    </tr>\n",
       "    <tr>\n",
       "      <th>1506</th>\n",
       "      <td>1507</td>\n",
       "      <td>2013-06-19 12:43:46</td>\n",
       "      <td>Barros Sophia</td>\n",
       "      <td>SophiaOliveiraBarros@gmail.com</td>\n",
       "      <td>SIGNUP</td>\n",
       "      <td>2014-06-03 12:43:46</td>\n",
       "      <td>1</td>\n",
       "      <td>1</td>\n",
       "      <td>353</td>\n",
       "      <td>0</td>\n",
       "      <td>349 days</td>\n",
       "      <td>0</td>\n",
       "      <td>0</td>\n",
       "    </tr>\n",
       "    <tr>\n",
       "      <th>1693</th>\n",
       "      <td>1694</td>\n",
       "      <td>2013-02-07 17:53:20</td>\n",
       "      <td>Barros Aline</td>\n",
       "      <td>AlineCardosoBarros@hotmail.com</td>\n",
       "      <td>PERSONAL_PROJECTS</td>\n",
       "      <td>2014-05-24 17:53:20</td>\n",
       "      <td>1</td>\n",
       "      <td>1</td>\n",
       "      <td>66</td>\n",
       "      <td>0</td>\n",
       "      <td>471 days</td>\n",
       "      <td>0</td>\n",
       "      <td>0</td>\n",
       "    </tr>\n",
       "    <tr>\n",
       "      <th>1763</th>\n",
       "      <td>1764</td>\n",
       "      <td>2013-06-28 00:48:01</td>\n",
       "      <td>Goncalves Leonor</td>\n",
       "      <td>LeonorFerreiraGoncalves@gustr.com</td>\n",
       "      <td>GUEST_INVITE</td>\n",
       "      <td>2013-06-29 00:48:01</td>\n",
       "      <td>0</td>\n",
       "      <td>0</td>\n",
       "      <td>0</td>\n",
       "      <td>9324</td>\n",
       "      <td>1 days</td>\n",
       "      <td>1</td>\n",
       "      <td>0</td>\n",
       "    </tr>\n",
       "    <tr>\n",
       "      <th>1834</th>\n",
       "      <td>1835</td>\n",
       "      <td>2013-04-12 06:20:17</td>\n",
       "      <td>Rocha Erick</td>\n",
       "      <td>ErickOliveiraRocha@cuvox.de</td>\n",
       "      <td>ORG_INVITE</td>\n",
       "      <td>2013-04-16 06:20:17</td>\n",
       "      <td>1</td>\n",
       "      <td>0</td>\n",
       "      <td>406</td>\n",
       "      <td>11716</td>\n",
       "      <td>4 days</td>\n",
       "      <td>1</td>\n",
       "      <td>0</td>\n",
       "    </tr>\n",
       "    <tr>\n",
       "      <th>1929</th>\n",
       "      <td>1930</td>\n",
       "      <td>2012-12-07 01:26:36</td>\n",
       "      <td>Rodrigues Julia</td>\n",
       "      <td>JuliaCavalcantiRodrigues@gmail.com</td>\n",
       "      <td>PERSONAL_PROJECTS</td>\n",
       "      <td>2013-03-27 01:26:36</td>\n",
       "      <td>0</td>\n",
       "      <td>0</td>\n",
       "      <td>351</td>\n",
       "      <td>0</td>\n",
       "      <td>110 days</td>\n",
       "      <td>0</td>\n",
       "      <td>1</td>\n",
       "    </tr>\n",
       "    <tr>\n",
       "      <th>1945</th>\n",
       "      <td>1946</td>\n",
       "      <td>2014-05-24 10:55:53</td>\n",
       "      <td>Sousa Luan</td>\n",
       "      <td>LuanSilvaSousa@gmail.com</td>\n",
       "      <td>GUEST_INVITE</td>\n",
       "      <td>2014-05-24 10:55:53</td>\n",
       "      <td>0</td>\n",
       "      <td>0</td>\n",
       "      <td>74</td>\n",
       "      <td>7716</td>\n",
       "      <td>0 days</td>\n",
       "      <td>1</td>\n",
       "      <td>0</td>\n",
       "    </tr>\n",
       "    <tr>\n",
       "      <th>1960</th>\n",
       "      <td>1961</td>\n",
       "      <td>2014-03-23 09:35:08</td>\n",
       "      <td>Barbosa Felipe</td>\n",
       "      <td>FelipeRodriguesBarbosa@gmail.com</td>\n",
       "      <td>SIGNUP_GOOGLE_AUTH</td>\n",
       "      <td>2014-03-23 09:35:08</td>\n",
       "      <td>1</td>\n",
       "      <td>1</td>\n",
       "      <td>208</td>\n",
       "      <td>0</td>\n",
       "      <td>0 days</td>\n",
       "      <td>0</td>\n",
       "      <td>0</td>\n",
       "    </tr>\n",
       "    <tr>\n",
       "      <th>1962</th>\n",
       "      <td>1963</td>\n",
       "      <td>2013-05-18 08:56:13</td>\n",
       "      <td>Gregersen Sara</td>\n",
       "      <td>qmlvvqqj@xnulw.com</td>\n",
       "      <td>SIGNUP</td>\n",
       "      <td>2013-05-18 08:56:13</td>\n",
       "      <td>0</td>\n",
       "      <td>0</td>\n",
       "      <td>317</td>\n",
       "      <td>0</td>\n",
       "      <td>0 days</td>\n",
       "      <td>0</td>\n",
       "      <td>0</td>\n",
       "    </tr>\n",
       "    <tr>\n",
       "      <th>1985</th>\n",
       "      <td>1986</td>\n",
       "      <td>2014-05-30 02:43:18</td>\n",
       "      <td>Bruun Olivia</td>\n",
       "      <td>bnofkhho@xxugt.com</td>\n",
       "      <td>ORG_INVITE</td>\n",
       "      <td>2014-05-30 02:43:18</td>\n",
       "      <td>0</td>\n",
       "      <td>0</td>\n",
       "      <td>385</td>\n",
       "      <td>2490</td>\n",
       "      <td>0 days</td>\n",
       "      <td>1</td>\n",
       "      <td>0</td>\n",
       "    </tr>\n",
       "    <tr>\n",
       "      <th>2098</th>\n",
       "      <td>2099</td>\n",
       "      <td>2014-05-18 14:28:44</td>\n",
       "      <td>Ferreira Tomás</td>\n",
       "      <td>nlnkjrgd@ykfrv.com</td>\n",
       "      <td>ORG_INVITE</td>\n",
       "      <td>2014-05-18 14:28:44</td>\n",
       "      <td>0</td>\n",
       "      <td>0</td>\n",
       "      <td>1</td>\n",
       "      <td>5151</td>\n",
       "      <td>0 days</td>\n",
       "      <td>1</td>\n",
       "      <td>0</td>\n",
       "    </tr>\n",
       "    <tr>\n",
       "      <th>2268</th>\n",
       "      <td>2269</td>\n",
       "      <td>2012-06-23 22:37:57</td>\n",
       "      <td>Fletcher Jack</td>\n",
       "      <td>JackFletcher@gmail.com</td>\n",
       "      <td>SIGNUP</td>\n",
       "      <td>2012-06-24 22:37:57</td>\n",
       "      <td>0</td>\n",
       "      <td>0</td>\n",
       "      <td>266</td>\n",
       "      <td>0</td>\n",
       "      <td>1 days</td>\n",
       "      <td>0</td>\n",
       "      <td>5</td>\n",
       "    </tr>\n",
       "    <tr>\n",
       "      <th>2395</th>\n",
       "      <td>2396</td>\n",
       "      <td>2014-05-29 12:51:32</td>\n",
       "      <td>Almeida Kauan</td>\n",
       "      <td>KauanPereiraAlmeida@yahoo.com</td>\n",
       "      <td>ORG_INVITE</td>\n",
       "      <td>2014-05-29 12:51:32</td>\n",
       "      <td>1</td>\n",
       "      <td>0</td>\n",
       "      <td>57</td>\n",
       "      <td>5408</td>\n",
       "      <td>0 days</td>\n",
       "      <td>1</td>\n",
       "      <td>0</td>\n",
       "    </tr>\n",
       "    <tr>\n",
       "      <th>2462</th>\n",
       "      <td>2463</td>\n",
       "      <td>2014-04-19 23:15:11</td>\n",
       "      <td>Gomes Marina</td>\n",
       "      <td>MarinaGoncalvesGomes@gmail.com</td>\n",
       "      <td>ORG_INVITE</td>\n",
       "      <td>2014-04-19 23:15:11</td>\n",
       "      <td>1</td>\n",
       "      <td>0</td>\n",
       "      <td>98</td>\n",
       "      <td>7585</td>\n",
       "      <td>0 days</td>\n",
       "      <td>1</td>\n",
       "      <td>0</td>\n",
       "    </tr>\n",
       "    <tr>\n",
       "      <th>2501</th>\n",
       "      <td>2502</td>\n",
       "      <td>2013-03-17 14:18:47</td>\n",
       "      <td>Rodrigues Pedro</td>\n",
       "      <td>PedroAraujoRodrigues@gustr.com</td>\n",
       "      <td>SIGNUP</td>\n",
       "      <td>2014-06-04 14:18:47</td>\n",
       "      <td>0</td>\n",
       "      <td>0</td>\n",
       "      <td>161</td>\n",
       "      <td>0</td>\n",
       "      <td>444 days</td>\n",
       "      <td>0</td>\n",
       "      <td>0</td>\n",
       "    </tr>\n",
       "    <tr>\n",
       "      <th>2740</th>\n",
       "      <td>2741</td>\n",
       "      <td>2013-08-10 18:28:08</td>\n",
       "      <td>Santos Alex</td>\n",
       "      <td>AlexBarbosaSantos@gmail.com</td>\n",
       "      <td>SIGNUP_GOOGLE_AUTH</td>\n",
       "      <td>2013-08-10 18:28:08</td>\n",
       "      <td>0</td>\n",
       "      <td>0</td>\n",
       "      <td>169</td>\n",
       "      <td>0</td>\n",
       "      <td>0 days</td>\n",
       "      <td>0</td>\n",
       "      <td>0</td>\n",
       "    </tr>\n",
       "  </tbody>\n",
       "</table>\n",
       "</div>"
      ],
      "text/plain": [
       "      object_id       creation_time              name  \\\n",
       "885         886 2013-11-10 12:34:07   Araujo Gabriela   \n",
       "917         918 2012-11-23 06:32:45   Araujo Gabriela   \n",
       "1381       1382 2012-09-23 09:03:41    Castro Eduarda   \n",
       "1438       1439 2013-05-25 12:20:34  Ribeiro Nicolash   \n",
       "1484       1485 2013-05-07 06:24:00    Poulsen Torben   \n",
       "1506       1507 2013-06-19 12:43:46     Barros Sophia   \n",
       "1693       1694 2013-02-07 17:53:20      Barros Aline   \n",
       "1763       1764 2013-06-28 00:48:01  Goncalves Leonor   \n",
       "1834       1835 2013-04-12 06:20:17       Rocha Erick   \n",
       "1929       1930 2012-12-07 01:26:36   Rodrigues Julia   \n",
       "1945       1946 2014-05-24 10:55:53        Sousa Luan   \n",
       "1960       1961 2014-03-23 09:35:08    Barbosa Felipe   \n",
       "1962       1963 2013-05-18 08:56:13    Gregersen Sara   \n",
       "1985       1986 2014-05-30 02:43:18      Bruun Olivia   \n",
       "2098       2099 2014-05-18 14:28:44    Ferreira Tomás   \n",
       "2268       2269 2012-06-23 22:37:57     Fletcher Jack   \n",
       "2395       2396 2014-05-29 12:51:32     Almeida Kauan   \n",
       "2462       2463 2014-04-19 23:15:11      Gomes Marina   \n",
       "2501       2502 2013-03-17 14:18:47   Rodrigues Pedro   \n",
       "2740       2741 2013-08-10 18:28:08       Santos Alex   \n",
       "\n",
       "                                     email     creation_source  \\\n",
       "885   GabrielaCorreiaAraujo@jourrapide.com          ORG_INVITE   \n",
       "917            GabrielaDiasAraujo@cuvox.de              SIGNUP   \n",
       "1381        EduardaRochaCastro@hotmail.com        GUEST_INVITE   \n",
       "1438  NicolashFernandesRibeiro@hotmail.com          ORG_INVITE   \n",
       "1484            TorbenRPoulsen@hotmail.com          ORG_INVITE   \n",
       "1506        SophiaOliveiraBarros@gmail.com              SIGNUP   \n",
       "1693        AlineCardosoBarros@hotmail.com   PERSONAL_PROJECTS   \n",
       "1763     LeonorFerreiraGoncalves@gustr.com        GUEST_INVITE   \n",
       "1834           ErickOliveiraRocha@cuvox.de          ORG_INVITE   \n",
       "1929    JuliaCavalcantiRodrigues@gmail.com   PERSONAL_PROJECTS   \n",
       "1945              LuanSilvaSousa@gmail.com        GUEST_INVITE   \n",
       "1960      FelipeRodriguesBarbosa@gmail.com  SIGNUP_GOOGLE_AUTH   \n",
       "1962                    qmlvvqqj@xnulw.com              SIGNUP   \n",
       "1985                    bnofkhho@xxugt.com          ORG_INVITE   \n",
       "2098                    nlnkjrgd@ykfrv.com          ORG_INVITE   \n",
       "2268                JackFletcher@gmail.com              SIGNUP   \n",
       "2395         KauanPereiraAlmeida@yahoo.com          ORG_INVITE   \n",
       "2462        MarinaGoncalvesGomes@gmail.com          ORG_INVITE   \n",
       "2501        PedroAraujoRodrigues@gustr.com              SIGNUP   \n",
       "2740           AlexBarbosaSantos@gmail.com  SIGNUP_GOOGLE_AUTH   \n",
       "\n",
       "     last_session_creation_time  opted_in_to_mailing_list  \\\n",
       "885         2013-11-10 12:34:07                         0   \n",
       "917         2012-11-23 06:32:45                         1   \n",
       "1381        2012-09-23 09:03:41                         0   \n",
       "1438        2013-06-16 12:20:34                         0   \n",
       "1484        2014-06-04 06:24:00                         1   \n",
       "1506        2014-06-03 12:43:46                         1   \n",
       "1693        2014-05-24 17:53:20                         1   \n",
       "1763        2013-06-29 00:48:01                         0   \n",
       "1834        2013-04-16 06:20:17                         1   \n",
       "1929        2013-03-27 01:26:36                         0   \n",
       "1945        2014-05-24 10:55:53                         0   \n",
       "1960        2014-03-23 09:35:08                         1   \n",
       "1962        2013-05-18 08:56:13                         0   \n",
       "1985        2014-05-30 02:43:18                         0   \n",
       "2098        2014-05-18 14:28:44                         0   \n",
       "2268        2012-06-24 22:37:57                         0   \n",
       "2395        2014-05-29 12:51:32                         1   \n",
       "2462        2014-04-19 23:15:11                         1   \n",
       "2501        2014-06-04 14:18:47                         0   \n",
       "2740        2013-08-10 18:28:08                         0   \n",
       "\n",
       "      enabled_for_marketing_drip  org_id  invited_by_user_id usage_time  \\\n",
       "885                            0      54                4118     0 days   \n",
       "917                            0      40                   0     0 days   \n",
       "1381                           0      33                1811     0 days   \n",
       "1438                           0      33                1481    22 days   \n",
       "1484                           0      17                2026   393 days   \n",
       "1506                           1     353                   0   349 days   \n",
       "1693                           1      66                   0   471 days   \n",
       "1763                           0       0                9324     1 days   \n",
       "1834                           0     406               11716     4 days   \n",
       "1929                           0     351                   0   110 days   \n",
       "1945                           0      74                7716     0 days   \n",
       "1960                           1     208                   0     0 days   \n",
       "1962                           0     317                   0     0 days   \n",
       "1985                           0     385                2490     0 days   \n",
       "2098                           0       1                5151     0 days   \n",
       "2268                           0     266                   0     1 days   \n",
       "2395                           0      57                5408     0 days   \n",
       "2462                           0      98                7585     0 days   \n",
       "2501                           0     161                   0   444 days   \n",
       "2740                           0     169                   0     0 days   \n",
       "\n",
       "      invited_by_user  invitees  \n",
       "885                 1         0  \n",
       "917                 0         0  \n",
       "1381                1         2  \n",
       "1438                1         0  \n",
       "1484                1         0  \n",
       "1506                0         0  \n",
       "1693                0         0  \n",
       "1763                1         0  \n",
       "1834                1         0  \n",
       "1929                0         1  \n",
       "1945                1         0  \n",
       "1960                0         0  \n",
       "1962                0         0  \n",
       "1985                1         0  \n",
       "2098                1         0  \n",
       "2268                0         5  \n",
       "2395                1         0  \n",
       "2462                1         0  \n",
       "2501                0         0  \n",
       "2740                0         0  "
      ]
     },
     "execution_count": 98,
     "metadata": {},
     "output_type": "execute_result"
    }
   ],
   "source": [
    "users[users.name.duplicated()==True].head(20)"
   ]
  },
  {
   "cell_type": "code",
   "execution_count": 100,
   "id": "93c9d8d1",
   "metadata": {},
   "outputs": [
    {
     "data": {
      "text/html": [
       "<div>\n",
       "<style scoped>\n",
       "    .dataframe tbody tr th:only-of-type {\n",
       "        vertical-align: middle;\n",
       "    }\n",
       "\n",
       "    .dataframe tbody tr th {\n",
       "        vertical-align: top;\n",
       "    }\n",
       "\n",
       "    .dataframe thead th {\n",
       "        text-align: right;\n",
       "    }\n",
       "</style>\n",
       "<table border=\"1\" class=\"dataframe\">\n",
       "  <thead>\n",
       "    <tr style=\"text-align: right;\">\n",
       "      <th></th>\n",
       "      <th>object_id</th>\n",
       "      <th>creation_time</th>\n",
       "      <th>name</th>\n",
       "      <th>email</th>\n",
       "      <th>creation_source</th>\n",
       "      <th>last_session_creation_time</th>\n",
       "      <th>opted_in_to_mailing_list</th>\n",
       "      <th>enabled_for_marketing_drip</th>\n",
       "      <th>org_id</th>\n",
       "      <th>invited_by_user_id</th>\n",
       "      <th>usage_time</th>\n",
       "      <th>invited_by_user</th>\n",
       "      <th>invitees</th>\n",
       "    </tr>\n",
       "  </thead>\n",
       "  <tbody>\n",
       "    <tr>\n",
       "      <th>493</th>\n",
       "      <td>494</td>\n",
       "      <td>2014-01-09 22:36:16</td>\n",
       "      <td>Azevedo Clara</td>\n",
       "      <td>ClaraFerreiraAzevedo@hotmail.com</td>\n",
       "      <td>SIGNUP</td>\n",
       "      <td>2014-05-28 22:36:16</td>\n",
       "      <td>0</td>\n",
       "      <td>0</td>\n",
       "      <td>330</td>\n",
       "      <td>0</td>\n",
       "      <td>139 days</td>\n",
       "      <td>0</td>\n",
       "      <td>0</td>\n",
       "    </tr>\n",
       "    <tr>\n",
       "      <th>8740</th>\n",
       "      <td>8741</td>\n",
       "      <td>2013-11-16 05:42:45</td>\n",
       "      <td>Azevedo Clara</td>\n",
       "      <td>ClaraMartinsAzevedo@yahoo.com</td>\n",
       "      <td>GUEST_INVITE</td>\n",
       "      <td>2013-12-18 05:42:45</td>\n",
       "      <td>0</td>\n",
       "      <td>1</td>\n",
       "      <td>218</td>\n",
       "      <td>6374</td>\n",
       "      <td>32 days</td>\n",
       "      <td>1</td>\n",
       "      <td>0</td>\n",
       "    </tr>\n",
       "  </tbody>\n",
       "</table>\n",
       "</div>"
      ],
      "text/plain": [
       "      object_id       creation_time           name  \\\n",
       "493         494 2014-01-09 22:36:16  Azevedo Clara   \n",
       "8740       8741 2013-11-16 05:42:45  Azevedo Clara   \n",
       "\n",
       "                                 email creation_source  \\\n",
       "493   ClaraFerreiraAzevedo@hotmail.com          SIGNUP   \n",
       "8740     ClaraMartinsAzevedo@yahoo.com    GUEST_INVITE   \n",
       "\n",
       "     last_session_creation_time  opted_in_to_mailing_list  \\\n",
       "493         2014-05-28 22:36:16                         0   \n",
       "8740        2013-12-18 05:42:45                         0   \n",
       "\n",
       "      enabled_for_marketing_drip  org_id  invited_by_user_id usage_time  \\\n",
       "493                            0     330                   0   139 days   \n",
       "8740                           1     218                6374    32 days   \n",
       "\n",
       "      invited_by_user  invitees  \n",
       "493                 0         0  \n",
       "8740                1         0  "
      ]
     },
     "execution_count": 100,
     "metadata": {},
     "output_type": "execute_result"
    }
   ],
   "source": [
    "users[users.name=='Azevedo Clara']"
   ]
  },
  {
   "cell_type": "markdown",
   "id": "0a050406",
   "metadata": {},
   "source": [
    "645 people have duplicate names. Most of them have different middle names but it is possible that a small minority of them are the same people with different ids. We can make the assumption that this is negligible. "
   ]
  },
  {
   "cell_type": "code",
   "execution_count": 106,
   "id": "3c216f11",
   "metadata": {
    "scrolled": true
   },
   "outputs": [
    {
     "data": {
      "text/plain": [
       "creation_source     invited_by_user\n",
       "GUEST_INVITE        1                  1586\n",
       "ORG_INVITE          1                  3185\n",
       "PERSONAL_PROJECTS   0                   764\n",
       "SIGNUP              0                  1894\n",
       "SIGNUP_GOOGLE_AUTH  0                  1381\n",
       "dtype: int64"
      ]
     },
     "execution_count": 106,
     "metadata": {},
     "output_type": "execute_result"
    }
   ],
   "source": [
    "users.groupby(by=['creation_source', 'invited_by_user']).size()"
   ]
  },
  {
   "cell_type": "markdown",
   "id": "befe2334",
   "metadata": {},
   "source": [
    "Many users were invited by an organization as a full member. The least amount of users signed up using Google Authentication. All users invited by another user fall into 'GUEST_INVITE' and \"ORG_INVITE'. It would be redundant to put both variables into modeling. "
   ]
  },
  {
   "cell_type": "code",
   "execution_count": 113,
   "id": "75362d0d",
   "metadata": {},
   "outputs": [
    {
     "data": {
      "text/plain": [
       "creation_source\n",
       "GUEST_INVITE           758\n",
       "ORG_INVITE            1277\n",
       "PERSONAL_PROJECTS      346\n",
       "SIGNUP                 666\n",
       "SIGNUP_GOOGLE_AUTH     504\n",
       "Name: invitees, dtype: int64"
      ]
     },
     "execution_count": 113,
     "metadata": {},
     "output_type": "execute_result"
    }
   ],
   "source": [
    "users.groupby(by=['creation_source']).invitees.sum()"
   ]
  },
  {
   "cell_type": "code",
   "execution_count": 114,
   "id": "bfc5ed57",
   "metadata": {},
   "outputs": [
    {
     "data": {
      "image/png": "[encoded data removed]",
      "text/plain": [
       "<Figure size 432x288 with 1 Axes>"
      ]
     },
     "metadata": {
      "needs_background": "light"
     },
     "output_type": "display_data"
    }
   ],
   "source": [
    "ax=(users.groupby(by=['creation_source']).invitees.sum()/users.groupby(by=['creation_source']).size()).plot.bar()\n",
    "ax.set_xlabel('Creation Source')\n",
    "ax.set_ylabel('Invitees per User')\n",
    "ax.set_title('Invitees per User per Creation Source');"
   ]
  },
  {
   "cell_type": "markdown",
   "id": "18a31201",
   "metadata": {},
   "source": [
    "Users who were invited to an organization as a guest invited the largest number of other users. Users who signed up via the website invited the least amount of other users."
   ]
  },
  {
   "cell_type": "code",
   "execution_count": 115,
   "id": "68f6d9cf",
   "metadata": {},
   "outputs": [
    {
     "data": {
      "text/plain": [
       "False"
      ]
     },
     "execution_count": 115,
     "metadata": {},
     "output_type": "execute_result"
    }
   ],
   "source": [
    "users.org_id.isna().any()"
   ]
  },
  {
   "cell_type": "code",
   "execution_count": 116,
   "id": "cbd8e568",
   "metadata": {
    "scrolled": false
   },
   "outputs": [
    {
     "data": {
      "image/png": "[encoded data removed]",
      "text/plain": [
       "<Figure size 432x288 with 1 Axes>"
      ]
     },
     "metadata": {
      "needs_background": "light"
     },
     "output_type": "display_data"
    }
   ],
   "source": [
    "ax=users.org_id.hist(bins=60)\n",
    "ax.set_xlabel('organization id')\n",
    "ax.set_ylabel('count')\n",
    "plt.show()"
   ]
  },
  {
   "cell_type": "code",
   "execution_count": 117,
   "id": "3ab31c4a",
   "metadata": {
    "scrolled": true
   },
   "outputs": [
    {
     "data": {
      "text/plain": [
       "0      228\n",
       "1      172\n",
       "2      150\n",
       "3      125\n",
       "4      122\n",
       "      ... \n",
       "400      6\n",
       "396      6\n",
       "397      5\n",
       "386      4\n",
       "416      2\n",
       "Name: org_id, Length: 417, dtype: int64"
      ]
     },
     "execution_count": 117,
     "metadata": {},
     "output_type": "execute_result"
    }
   ],
   "source": [
    "users.org_id.value_counts()"
   ]
  },
  {
   "cell_type": "code",
   "execution_count": 118,
   "id": "4d34759b",
   "metadata": {
    "scrolled": true
   },
   "outputs": [
    {
     "data": {
      "text/plain": [
       "False"
      ]
     },
     "execution_count": 118,
     "metadata": {},
     "output_type": "execute_result"
    }
   ],
   "source": [
    "users.org_id.isna().any()"
   ]
  },
  {
   "cell_type": "code",
   "execution_count": null,
   "id": "dc4736dc",
   "metadata": {},
   "outputs": [],
   "source": [
    "users.org_id."
   ]
  },
  {
   "cell_type": "code",
   "execution_count": 186,
   "id": "ee8ab3a9",
   "metadata": {},
   "outputs": [],
   "source": [
    "users['creation_sources']=users.creation_source.map({'ORG_INVITE':0, 'GUEST_INVITE':1, 'PERSONAL_PROJECTS':2, 'SIGNUP':3, 'SIGNUP_GOOGLE_AUTH':4.})"
   ]
  },
  {
   "cell_type": "code",
   "execution_count": 237,
   "id": "4c3e71de",
   "metadata": {
    "scrolled": true
   },
   "outputs": [],
   "source": [
    "total=users.groupby('invitees')['org_id'].sum()"
   ]
  },
  {
   "cell_type": "code",
   "execution_count": null,
   "id": "1d524af7",
   "metadata": {},
   "outputs": [],
   "source": [
    "users[users.]"
   ]
  },
  {
   "cell_type": "code",
   "execution_count": null,
   "id": "0be827e7",
   "metadata": {},
   "outputs": [],
   "source": [
    "users.groupby('org_id')"
   ]
  },
  {
   "cell_type": "code",
   "execution_count": 242,
   "id": "aaab54c8",
   "metadata": {},
   "outputs": [
    {
     "data": {
      "text/plain": [
       "[(-0.001, 30.0], (30.0, 109.0], (109.0, 239.0], (239.0, 416.0]]\n",
       "Categories (4, interval[float64, right]): [(-0.001, 30.0] < (30.0, 109.0] < (109.0, 239.0] < (239.0, 416.0]]"
      ]
     },
     "execution_count": 242,
     "metadata": {},
     "output_type": "execute_result"
    }
   ],
   "source": [
    "pd.qcut(users.org_id, q=4).unique()"
   ]
  },
  {
   "cell_type": "code",
   "execution_count": 243,
   "id": "23b1b86f",
   "metadata": {},
   "outputs": [],
   "source": [
    "users['org_groups']=pd.qcut(users.org_id, q=4, labels=[0,1,2,3])"
   ]
  },
  {
   "cell_type": "code",
   "execution_count": 270,
   "id": "8b35a5c7",
   "metadata": {},
   "outputs": [
    {
     "data": {
      "text/plain": [
       "0    7365\n",
       "1    1445\n",
       "Name: adopted, dtype: int64"
      ]
     },
     "execution_count": 270,
     "metadata": {},
     "output_type": "execute_result"
    }
   ],
   "source": [
    "users.adopted.value_counts()"
   ]
  },
  {
   "cell_type": "code",
   "execution_count": 280,
   "id": "c507187d",
   "metadata": {
    "scrolled": true
   },
   "outputs": [],
   "source": [
    "total=users.groupby('org_groups').invitees.sum().reset_index()"
   ]
  },
  {
   "cell_type": "code",
   "execution_count": 295,
   "id": "4b5a9554",
   "metadata": {
    "scrolled": false
   },
   "outputs": [
    {
     "data": {
      "text/plain": [
       "org_groups\n",
       "0    862\n",
       "1    931\n",
       "2    910\n",
       "3    848\n",
       "Name: invitees, dtype: int64"
      ]
     },
     "execution_count": 295,
     "metadata": {},
     "output_type": "execute_result"
    }
   ],
   "source": [
    "users.groupby('org_groups').invitees.sum()"
   ]
  },
  {
   "cell_type": "code",
   "execution_count": 398,
   "id": "8960e7c2",
   "metadata": {
    "scrolled": true
   },
   "outputs": [
    {
     "data": {
      "image/png": "[encoded data removed]",
      "text/plain": [
       "<Figure size 360x360 with 1 Axes>"
      ]
     },
     "metadata": {
      "needs_background": "light"
     },
     "output_type": "display_data"
    }
   ],
   "source": [
    "categories=sorted(users['org_groups'].unique())\n",
    "adopted=[]\n",
    "not_adopted=[]\n",
    "for c in categories:\n",
    "    c_con=users.org_groups==c\n",
    "    n=len(users[c_con])\n",
    "    adopted.append(len(users[(users.adopted==1.)&(c_con)])/n)\n",
    "    not_adopted.append(len(users[(users.adopted==0.)&(c_con)])/n)\n",
    "adopted=np.array(adopted)\n",
    "not_adopted=np.array(not_adopted)\n",
    "\n",
    "width=0.2\n",
    "fig, ax = plt.subplots(1,1, figsize=(5,5))\n",
    "bar1=ax.bar(categories, not_adopted, label='not adopted', width=width)\n",
    "bar2=ax.bar(categories, adopted, label='adopted', bottom=not_adopted, width=width)\n",
    "ax.set_ylabel('Relative Frequency')\n",
    "ax.set_xlabel('Organization ID Groups')\n",
    "ax.set_title('Figure 1. Adoption Rates within Organization ID groups')\n",
    "ax.legend(fontsize=10)\n",
    "ax.bar_label(bar1, labels=np.round(not_adopted, 3), label_type='center')\n",
    "ax.bar_label(bar2, labels=np.round(adopted, 3), label_type='center')\n",
    "ax.set_xticks([0, 1, 2, 3])\n",
    "ax.set_xticklabels(['0~30', '31~109', '110~239', '240~416'])\n",
    "plt.show()\n",
    "    "
   ]
  },
  {
   "cell_type": "code",
   "execution_count": 339,
   "id": "e9e5a7d9",
   "metadata": {},
   "outputs": [
    {
     "data": {
      "image/png": "[encoded data removed]",
      "text/plain": [
       "<Figure size 432x288 with 1 Axes>"
      ]
     },
     "metadata": {
      "needs_background": "light"
     },
     "output_type": "display_data"
    }
   ],
   "source": [
    "ax2=sns.boxplot(x='adopted', y='org_id', data=users, showmeans=True)\n",
    "ax2.set_xlabel('Adoption')\n",
    "ax2.set_ylabel('Organization ID')\n",
    "ax2.set_title('Organization ID Counts by Adoption Groups')\n",
    "ax2.set_xticks([0,1])\n",
    "ax2.set_xticklabels(['Not Adopted', 'Adopted'])\n",
    "plt.show()"
   ]
  },
  {
   "cell_type": "code",
   "execution_count": 350,
   "id": "51182ff5",
   "metadata": {
    "scrolled": true
   },
   "outputs": [
    {
     "data": {
      "text/plain": [
       "0     7180\n",
       "1      761\n",
       "2      376\n",
       "3      218\n",
       "4      119\n",
       "5       74\n",
       "6       49\n",
       "7       23\n",
       "8        8\n",
       "10       1\n",
       "9        1\n",
       "Name: invitees, dtype: int64"
      ]
     },
     "execution_count": 350,
     "metadata": {},
     "output_type": "execute_result"
    }
   ],
   "source": [
    "users.invitees.value_counts()"
   ]
  },
  {
   "cell_type": "code",
   "execution_count": 351,
   "id": "aca7f1f6",
   "metadata": {},
   "outputs": [],
   "source": [
    "users['invited_someone']=users.invitees!=0"
   ]
  },
  {
   "cell_type": "code",
   "execution_count": 352,
   "id": "c5114a75",
   "metadata": {
    "scrolled": true
   },
   "outputs": [
    {
     "data": {
      "text/plain": [
       "False    7180\n",
       "True     1630\n",
       "Name: invited_someone, dtype: int64"
      ]
     },
     "execution_count": 352,
     "metadata": {},
     "output_type": "execute_result"
    }
   ],
   "source": [
    "users.invited_someone.value_counts()"
   ]
  },
  {
   "cell_type": "code",
   "execution_count": 399,
   "id": "4c90a39b",
   "metadata": {
    "scrolled": true
   },
   "outputs": [
    {
     "data": {
      "image/png": "[encoded data removed]",
      "text/plain": [
       "<Figure size 360x360 with 1 Axes>"
      ]
     },
     "metadata": {
      "needs_background": "light"
     },
     "output_type": "display_data"
    }
   ],
   "source": [
    "categories=sorted(users['invited_someone'].unique())\n",
    "adopted=[]\n",
    "not_adopted=[]\n",
    "for c in categories:\n",
    "    c_con=users.invited_someone==c\n",
    "    n=len(users[c_con])\n",
    "    adopted.append(len(users[(users.adopted==1.)&(c_con)])/n)\n",
    "    not_adopted.append(len(users[(users.adopted==0.)&(c_con)])/n)\n",
    "adopted=np.array(adopted)\n",
    "not_adopted=np.array(not_adopted)\n",
    "\n",
    "width=0.2\n",
    "fig, ax = plt.subplots(1,1, figsize=(5,5))\n",
    "bar1=ax.bar(categories, not_adopted, label='not adopted', width=width)\n",
    "bar2=ax.bar(categories, adopted, label='adopted', bottom=not_adopted, width=width)\n",
    "ax.set_ylabel('Relative Frequency')\n",
    "ax.set_xlabel('Invitations')\n",
    "ax.set_title('Figure 2. Adoption Rates within Invitation Groups')\n",
    "ax.legend(fontsize=10)\n",
    "ax.bar_label(bar1, labels=np.round(not_adopted, 3), label_type='center')\n",
    "ax.bar_label(bar2, labels=np.round(adopted, 3), label_type='center')\n",
    "ax.set_xticks([0, 1])\n",
    "ax.set_xticklabels(['Did not invite anyone', 'Invited one or more users'])\n",
    "plt.show()\n",
    "    "
   ]
  },
  {
   "cell_type": "code",
   "execution_count": 361,
   "id": "5809e944",
   "metadata": {},
   "outputs": [
    {
     "data": {
      "image/png": "[encoded data removed]",
      "text/plain": [
       "<Figure size 576x360 with 1 Axes>"
      ]
     },
     "metadata": {
      "needs_background": "light"
     },
     "output_type": "display_data"
    }
   ],
   "source": [
    "categories=sorted(users['creation_source'].unique())\n",
    "adopted=[]\n",
    "not_adopted=[]\n",
    "for c in categories:\n",
    "    c_con=users.creation_source==c\n",
    "    n=len(users[c_con])\n",
    "    adopted.append(len(users[(users.adopted==1.)&(c_con)])/n)\n",
    "    not_adopted.append(len(users[(users.adopted==0.)&(c_con)])/n)\n",
    "adopted=np.array(adopted)\n",
    "not_adopted=np.array(not_adopted)\n",
    "\n",
    "width=0.2\n",
    "fig, ax = plt.subplots(1,1, figsize=(8,5))\n",
    "bar1=ax.bar(categories, not_adopted, label='not adopted', width=width)\n",
    "bar2=ax.bar(categories, adopted, label='adopted', bottom=not_adopted, width=width)\n",
    "ax.set_ylabel('Relative Frequency')\n",
    "ax.set_xlabel('Creation Sources')\n",
    "ax.set_title('Adoption Rates within Creation Source Groups')\n",
    "ax.legend(fontsize=10)\n",
    "ax.bar_label(bar1, labels=np.round(not_adopted, 3), label_type='center')\n",
    "ax.bar_label(bar2, labels=np.round(adopted, 3), label_type='center')\n",
    "\n",
    "plt.show()\n",
    "    "
   ]
  },
  {
   "cell_type": "code",
   "execution_count": 244,
   "id": "8fd768d2",
   "metadata": {},
   "outputs": [
    {
     "data": {
      "image/png": "[encoded data removed]",
      "text/plain": [
       "<Figure size 864x720 with 2 Axes>"
      ]
     },
     "metadata": {
      "needs_background": "light"
     },
     "output_type": "display_data"
    }
   ],
   "source": [
    "fig, ax = plt.subplots(figsize=(12,10))\n",
    "sns.heatmap(round(users.corr(), 2), annot=True, cmap='BuPu')\n",
    "ax.set_title('Correlation Heatmap for User Features with Pearson Coefficients');"
   ]
  },
  {
   "cell_type": "markdown",
   "id": "c789c886",
   "metadata": {},
   "source": [
    "We should exclude 'invited_by_user_id' and 'invited_by_user' while including 'creation_sources'. 'Invitees' doesn't seem to be correlated to 'creation_source'."
   ]
  },
  {
   "cell_type": "code",
   "execution_count": 125,
   "id": "cfaaf0a4",
   "metadata": {},
   "outputs": [],
   "source": [
    "from scipy.stats import chi2_contingency"
   ]
  },
  {
   "cell_type": "code",
   "execution_count": 126,
   "id": "2a7d957d",
   "metadata": {},
   "outputs": [],
   "source": [
    "def cramers_v(x, y):\n",
    "    confusion_matrix = pd.crosstab(x,y)\n",
    "    chi2 = chi2_contingency(confusion_matrix)[0]\n",
    "    n = confusion_matrix.sum().sum()\n",
    "    phi2 = chi2/n\n",
    "    r,k = confusion_matrix.shape\n",
    "    phi2corr = max(0, phi2-((k-1)*(r-1))/(n-1))\n",
    "    rcorr = r-((r-1)**2)/(n-1)\n",
    "    kcorr = k-((k-1)**2)/(n-1)\n",
    "    return np.sqrt(phi2corr/min((kcorr-1),(rcorr-1)))"
   ]
  },
  {
   "cell_type": "code",
   "execution_count": 127,
   "id": "d8f72713",
   "metadata": {
    "scrolled": false
   },
   "outputs": [
    {
     "data": {
      "text/plain": [
       "Index(['object_id', 'creation_time', 'name', 'email', 'creation_source',\n",
       "       'last_session_creation_time', 'opted_in_to_mailing_list',\n",
       "       'enabled_for_marketing_drip', 'org_id', 'invited_by_user_id',\n",
       "       'usage_time', 'invited_by_user', 'invitees', 'creation_source_ordinal'],\n",
       "      dtype='object')"
      ]
     },
     "execution_count": 127,
     "metadata": {},
     "output_type": "execute_result"
    }
   ],
   "source": [
    "users.columns"
   ]
  },
  {
   "cell_type": "code",
   "execution_count": 138,
   "id": "b168a14a",
   "metadata": {
    "scrolled": true
   },
   "outputs": [
    {
     "data": {
      "text/plain": [
       "count                           8810\n",
       "mean      59 days 07:11:10.964812713\n",
       "std      144 days 06:19:26.708544454\n",
       "min                  0 days 00:00:00\n",
       "25%                  0 days 00:00:00\n",
       "50%                  1 days 00:00:00\n",
       "75%                 20 days 00:00:00\n",
       "max                729 days 00:00:00\n",
       "Name: usage_time, dtype: object"
      ]
     },
     "execution_count": 138,
     "metadata": {},
     "output_type": "execute_result"
    }
   ],
   "source": [
    "users.usage_time.describe()"
   ]
  },
  {
   "cell_type": "code",
   "execution_count": 397,
   "id": "c6726502",
   "metadata": {},
   "outputs": [
    {
     "data": {
      "image/png": "[encoded data removed]",
      "text/plain": [
       "<Figure size 432x288 with 1 Axes>"
      ]
     },
     "metadata": {
      "needs_background": "light"
     },
     "output_type": "display_data"
    }
   ],
   "source": [
    "plt.hist(users.usage_time.dt.days, bins=50)\n",
    "plt.xlabel('Time Difference (days)')\n",
    "plt.ylabel('Count')\n",
    "plt.show()"
   ]
  },
  {
   "cell_type": "code",
   "execution_count": 137,
   "id": "9c8c794a",
   "metadata": {
    "scrolled": true
   },
   "outputs": [
    {
     "data": {
      "text/plain": [
       "[(-1 days +23:59:59.999999999, 1 days 00:00:00], (1 days 00:00:00, 729 days 00:00:00]]\n",
       "Categories (2, interval[timedelta64[ns], right]): [(-1 days +23:59:59.999999999, 1 days 00:00:00] < (1 days 00:00:00, 729 days 00:00:00]]"
      ]
     },
     "execution_count": 137,
     "metadata": {},
     "output_type": "execute_result"
    }
   ],
   "source": [
    "pd.qcut(users.usage_time, q=2).unique()"
   ]
  },
  {
   "cell_type": "code",
   "execution_count": null,
   "id": "20b24ebc",
   "metadata": {},
   "outputs": [],
   "source": [
    "users['time_groups']=pd.qcut(users.usage_time, q=2, labels=[0.,1.]).astype(float)"
   ]
  },
  {
   "cell_type": "code",
   "execution_count": 143,
   "id": "66c7a22e",
   "metadata": {},
   "outputs": [],
   "source": [
    "users['email_domain']=users.email.apply(lambda x: x[x.index('@')+1:])"
   ]
  },
  {
   "cell_type": "code",
   "execution_count": 153,
   "id": "f36815ff",
   "metadata": {},
   "outputs": [
    {
     "data": {
      "text/plain": [
       "gmail.com         2923\n",
       "yahoo.com         1722\n",
       "jourrapide.com     882\n",
       "gustr.com          841\n",
       "cuvox.de           828\n",
       "hotmail.com        803\n",
       "luque.com            2\n",
       "Name: email_domain, dtype: int64"
      ]
     },
     "execution_count": 153,
     "metadata": {},
     "output_type": "execute_result"
    }
   ],
   "source": [
    "users.email_domain.value_counts()[:7]"
   ]
  },
  {
   "cell_type": "code",
   "execution_count": 145,
   "id": "efa90a93",
   "metadata": {},
   "outputs": [],
   "source": [
    "domains=users.email_domain.value_counts().index.tolist()"
   ]
  },
  {
   "cell_type": "code",
   "execution_count": 146,
   "id": "ba6fdf3a",
   "metadata": {},
   "outputs": [
    {
     "data": {
      "text/plain": [
       "['gmail.com',\n",
       " 'yahoo.com',\n",
       " 'jourrapide.com',\n",
       " 'gustr.com',\n",
       " 'cuvox.de',\n",
       " 'hotmail.com',\n",
       " 'luque.com',\n",
       " 'mumdc.com',\n",
       " 'oqpze.com',\n",
       " 'xybhi.com',\n",
       " 'xvnbr.com',\n",
       " 'tgaim.com',\n",
       " 'yhnuj.com',\n",
       " 'upqhn.com',\n",
       " 'mngrr.com',\n",
       " 'gctmd.com',\n",
       " 'ceqro.com',\n",
       " 'vkjsm.com',\n",
       " 'kbaxq.com',\n",
       " 'eqtvz.com',\n",
       " 'jyspz.com',\n",
       " 'dshis.com',\n",
       " 'hfbri.com',\n",
       " 'eznoh.com',\n",
       " 'nqnui.com',\n",
       " 'fboqn.com',\n",
       " 'syspy.com',\n",
       " 'bfxyd.com',\n",
       " 'flnib.com',\n",
       " 'ckvbo.com',\n",
       " 'rwkhi.com',\n",
       " 'qvjim.com',\n",
       " 'bchfd.com',\n",
       " 'orsoq.com',\n",
       " 'sleif.com',\n",
       " 'mndbu.com',\n",
       " 'hwqov.com',\n",
       " 'cylik.com',\n",
       " 'eryuz.com',\n",
       " 'dseth.com',\n",
       " 'uasor.com',\n",
       " 'lyjyt.com',\n",
       " 'cyqff.com',\n",
       " 'qqgix.com',\n",
       " 'adpql.com',\n",
       " 'fulwb.com',\n",
       " 'pafbm.com',\n",
       " 'khhlm.com',\n",
       " 'tweeh.com',\n",
       " 'tdife.com',\n",
       " 'tqyvi.com',\n",
       " 'tfsce.com',\n",
       " 'ggkhf.com',\n",
       " 'oodxe.com',\n",
       " 'tgwte.com',\n",
       " 'amknl.com',\n",
       " 'xdutj.com',\n",
       " 'gcrgb.com',\n",
       " 'ufpll.com',\n",
       " 'bfvoj.com',\n",
       " 'igiwm.com',\n",
       " 'xsxix.com',\n",
       " 'pdwak.com',\n",
       " 'xxsyq.com',\n",
       " 'pivfo.com',\n",
       " 'nwukn.com',\n",
       " 'ihnru.com',\n",
       " 'ktqxt.com',\n",
       " 'ldguj.com',\n",
       " 'ispta.com',\n",
       " 'gobqd.com',\n",
       " 'hrpvm.com',\n",
       " 'cceoj.com',\n",
       " 'viadn.com',\n",
       " 'yiuyk.com',\n",
       " 'btpuf.com',\n",
       " 'pvicn.com',\n",
       " 'csiml.com',\n",
       " 'xycon.com',\n",
       " 'uwzjs.com',\n",
       " 'iiqgf.com',\n",
       " 'bvcwd.com',\n",
       " 'tcftd.com',\n",
       " 'ifxcq.com',\n",
       " 'rgdyj.com',\n",
       " 'pqmnc.com',\n",
       " 'ajrkw.com',\n",
       " 'mzmne.com',\n",
       " 'khecx.com',\n",
       " 'nrwjd.com',\n",
       " 'ldidt.com',\n",
       " 'gzhjb.com',\n",
       " 'yyzci.com',\n",
       " 'wyfdb.com',\n",
       " 'ssjsl.com',\n",
       " 'ulwdv.com',\n",
       " 'qcnhy.com',\n",
       " 'zsrgb.com',\n",
       " 'ftdls.com',\n",
       " 'cweei.com',\n",
       " 'xmqve.com',\n",
       " 'anogl.com',\n",
       " 'xxxue.com',\n",
       " 'qdrcj.com',\n",
       " 'xbmic.com',\n",
       " 'jipcm.com',\n",
       " 'uuppd.com',\n",
       " 'fnbpv.com',\n",
       " 'xsuur.com',\n",
       " 'vhugu.com',\n",
       " 'tbvbu.com',\n",
       " 'sypcr.com',\n",
       " 'hqmnb.com',\n",
       " 'dieyh.com',\n",
       " 'qligh.com',\n",
       " 'feibf.com',\n",
       " 'fqmmb.com',\n",
       " 'iovoe.com',\n",
       " 'ucdhc.com',\n",
       " 'ymmyh.com',\n",
       " 'lqwjg.com',\n",
       " 'qrkbx.com',\n",
       " 'bztur.com',\n",
       " 'nxbkw.com',\n",
       " 'kvxdt.com',\n",
       " 'mbuvw.com',\n",
       " 'qhoyb.com',\n",
       " 'xobnn.com',\n",
       " 'aqeyf.com',\n",
       " 'reulu.com',\n",
       " 'qexea.com',\n",
       " 'ewybl.com',\n",
       " 'wydvs.com',\n",
       " 'vqpgh.com',\n",
       " 'djopl.com',\n",
       " 'hgiyt.com',\n",
       " 'wwwrv.com',\n",
       " 'ifdym.com',\n",
       " 'txkeo.com',\n",
       " 'anmvu.com',\n",
       " 'bdlvv.com',\n",
       " 'slwef.com',\n",
       " 'yoydr.com',\n",
       " 'ukorp.com',\n",
       " 'jfxdt.com',\n",
       " 'mlrfw.com',\n",
       " 'kprrk.com',\n",
       " 'qowtd.com',\n",
       " 'icjnp.com',\n",
       " 'yxtxk.com',\n",
       " 'dqwln.com',\n",
       " 'vxaiq.com',\n",
       " 'jlcft.com',\n",
       " 'xpgje.com',\n",
       " 'mmbuv.com',\n",
       " 'iggnw.com',\n",
       " 'zkcdj.com',\n",
       " 'fgnyh.com',\n",
       " 'uhbku.com',\n",
       " 'rrjuw.com',\n",
       " 'myhob.com',\n",
       " 'abdnf.com',\n",
       " 'ieunf.com',\n",
       " 'jzyvg.com',\n",
       " 'gnbno.com',\n",
       " 'hfehy.com',\n",
       " 'xivdf.com',\n",
       " 'bgdwc.com',\n",
       " 'fqoyz.com',\n",
       " 'zpcop.com',\n",
       " 'aotcc.com',\n",
       " 'lqwms.com',\n",
       " 'jberw.com',\n",
       " 'dvtjm.com',\n",
       " 'ezmko.com',\n",
       " 'stsgd.com',\n",
       " 'gjchh.com',\n",
       " 'cxlhf.com',\n",
       " 'ghtwe.com',\n",
       " 'rosyq.com',\n",
       " 'mkqac.com',\n",
       " 'pqirn.com',\n",
       " 'owtfq.com',\n",
       " 'lwctn.com',\n",
       " 'ncvyi.com',\n",
       " 'rougv.com',\n",
       " 'ynteo.com',\n",
       " 'svdbx.com',\n",
       " 'kilen.com',\n",
       " 'rdnfm.com',\n",
       " 'ceneg.com',\n",
       " 'ivgqo.com',\n",
       " 'djoqq.com',\n",
       " 'crcly.com',\n",
       " 'rqdsf.com',\n",
       " 'lqxpi.com',\n",
       " 'ubrju.com',\n",
       " 'yevse.com',\n",
       " 'qssjs.com',\n",
       " 'ekoql.com',\n",
       " 'cdhew.com',\n",
       " 'ogmum.com',\n",
       " 'kgxxw.com',\n",
       " 'bsjsm.com',\n",
       " 'tdgxv.com',\n",
       " 'wschb.com',\n",
       " 'nibhj.com',\n",
       " 'odwdw.com',\n",
       " 'vkmgt.com',\n",
       " 'ystpu.com',\n",
       " 'ikcdl.com',\n",
       " 'lvwyf.com',\n",
       " 'hgixr.com',\n",
       " 'gwqou.com',\n",
       " 'pwqpb.com',\n",
       " 'mgtcc.com',\n",
       " 'uppir.com',\n",
       " 'ykeqr.com',\n",
       " 'tcenf.com',\n",
       " 'vvpox.com',\n",
       " 'uwbnp.com',\n",
       " 'xjcjp.com',\n",
       " 'demvu.com',\n",
       " 'csmdd.com',\n",
       " 'ilhbl.com',\n",
       " 'idqxs.com',\n",
       " 'vmtlx.com',\n",
       " 'vdarj.com',\n",
       " 'wofgo.com',\n",
       " 'kxixr.com',\n",
       " 'ocpty.com',\n",
       " 'fkjrf.com',\n",
       " 'vlqyu.com',\n",
       " 'jgcqb.com',\n",
       " 'uqrno.com',\n",
       " 'fnzjv.com',\n",
       " 'gmpoc.com',\n",
       " 'vxzgg.com',\n",
       " 'rmlsj.com',\n",
       " 'vxfeh.com',\n",
       " 'jcksk.com',\n",
       " 'webso.com',\n",
       " 'clbuw.com',\n",
       " 'qfdyj.com',\n",
       " 'ymohu.com',\n",
       " 'pkeoi.com',\n",
       " 'hcqac.com',\n",
       " 'pmojd.com',\n",
       " 'iacjq.com',\n",
       " 'bgdut.com',\n",
       " 'tqytb.com',\n",
       " 'grtuq.com',\n",
       " 'qwkmc.com',\n",
       " 'kmfoh.com',\n",
       " 'mxdxf.com',\n",
       " 'bosvd.com',\n",
       " 'kqzbg.com',\n",
       " 'cuvvr.com',\n",
       " 'vknkm.com',\n",
       " 'vgtej.com',\n",
       " 'aotdh.com',\n",
       " 'ygljn.com',\n",
       " 'xxtzt.com',\n",
       " 'aiouj.com',\n",
       " 'nhxrt.com',\n",
       " 'rimoj.com',\n",
       " 'oxwsw.com',\n",
       " 'slzpc.com',\n",
       " 'uxffl.com',\n",
       " 'inrxl.com',\n",
       " 'pybhg.com',\n",
       " 'tnhyy.com',\n",
       " 'difbq.com',\n",
       " 'ynsbd.com',\n",
       " 'rleof.com',\n",
       " 'zkdih.com',\n",
       " 'xdxgl.com',\n",
       " 'enefm.com',\n",
       " 'aerbd.com',\n",
       " 'brhlk.com',\n",
       " 'bikch.com',\n",
       " 'owujh.com',\n",
       " 'cgbld.com',\n",
       " 'uyhoy.com',\n",
       " 'fxzfd.com',\n",
       " 'qmppd.com',\n",
       " 'ymlvu.com',\n",
       " 'xduqs.com',\n",
       " 'rtshi.com',\n",
       " 'icooc.com',\n",
       " 'pnwte.com',\n",
       " 'krewx.com',\n",
       " 'qhnul.com',\n",
       " 'dqsut.com',\n",
       " 'gzged.com',\n",
       " 'doiac.com',\n",
       " 'ypbmj.com',\n",
       " 'rjuyh.com',\n",
       " 'bdnfn.com',\n",
       " 'tkrfw.com',\n",
       " 'lzsor.com',\n",
       " 'qnsbc.com',\n",
       " 'vbsly.com',\n",
       " 'ghtxh.com',\n",
       " 'zghpe.com',\n",
       " 'gwsyp.com',\n",
       " 'zfcsl.com',\n",
       " 'fumwc.com',\n",
       " 'tlxgl.com',\n",
       " 'mfoiv.com',\n",
       " 'goebt.com',\n",
       " 'qwnam.com',\n",
       " 'clwdx.com',\n",
       " 'huekm.com',\n",
       " 'hufmv.com',\n",
       " 'xuifc.com',\n",
       " 'ibgbo.com',\n",
       " 'wedfp.com',\n",
       " 'pjcjm.com',\n",
       " 'wpmpp.com',\n",
       " 'aipbl.com',\n",
       " 'bfukq.com',\n",
       " 'lrdlx.com',\n",
       " 'sgbnn.com',\n",
       " 'sdndb.com',\n",
       " 'wrttl.com',\n",
       " 'hywms.com',\n",
       " 'mehzd.com',\n",
       " 'ufqlk.com',\n",
       " 'ofixq.com',\n",
       " 'dpphp.com',\n",
       " 'rtsgb.com',\n",
       " 'aldgv.com',\n",
       " 'zfbno.com',\n",
       " 'iclxj.com',\n",
       " 'qhntg.com',\n",
       " 'wpkdm.com',\n",
       " 'ruxgl.com',\n",
       " 'dbxmo.com',\n",
       " 'cjpwo.com',\n",
       " 'xgmsd.com',\n",
       " 'mgvmx.com',\n",
       " 'skvbs.com',\n",
       " 'nvneg.com',\n",
       " 'darkw.com',\n",
       " 'userw.com',\n",
       " 'mzkem.com',\n",
       " 'qwmuo.com',\n",
       " 'qpyds.com',\n",
       " 'nygiv.com',\n",
       " 'viyyv.com',\n",
       " 'nwulu.com',\n",
       " 'numcu.com',\n",
       " 'micmc.com',\n",
       " 'bztuu.com',\n",
       " 'hozfa.com',\n",
       " 'cvvth.com',\n",
       " 'vgrpz.com',\n",
       " 'ucynu.com',\n",
       " 'etgai.com',\n",
       " 'zjtvu.com',\n",
       " 'lccen.com',\n",
       " 'gruzm.com',\n",
       " 'gfgql.com',\n",
       " 'ofici.com',\n",
       " 'iudgs.com',\n",
       " 'cksld.com',\n",
       " 'xhqit.com',\n",
       " 'xvogn.com',\n",
       " 'encuw.com',\n",
       " 'hyaes.com',\n",
       " 'jimma.com',\n",
       " 'wctlz.com',\n",
       " 'xxvlq.com',\n",
       " 'gixrq.com',\n",
       " 'pfhqn.com',\n",
       " 'bqdse.com',\n",
       " 'ptymq.com',\n",
       " 'hufog.com',\n",
       " 'xjzxp.com',\n",
       " 'ksjrj.com',\n",
       " 'nxbku.com',\n",
       " 'cshit.com',\n",
       " 'dvseo.com',\n",
       " 'midoo.com',\n",
       " 'ilemx.com',\n",
       " 'fmuqr.com',\n",
       " 'suwxx.com',\n",
       " 'eykdh.com',\n",
       " 'dihjz.com',\n",
       " 'elvth.com',\n",
       " 'yyyvi.com',\n",
       " 'pmsbc.com',\n",
       " 'jbaxq.com',\n",
       " 'eqrnp.com',\n",
       " 'xqjvg.com',\n",
       " 'pxvlr.com',\n",
       " 'swhrr.com',\n",
       " 'ppgkh.com',\n",
       " 'qhlmb.com',\n",
       " 'mppgi.com',\n",
       " 'jqevt.com',\n",
       " 'evumx.com',\n",
       " 'orvdz.com',\n",
       " 'jnohq.com',\n",
       " 'vievr.com',\n",
       " 'xqlig.com',\n",
       " 'mhbhg.com',\n",
       " 'jrggl.com',\n",
       " 'njesf.com',\n",
       " 'knhwq.com',\n",
       " 'pobmi.com',\n",
       " 'kavdd.com',\n",
       " 'zbhhl.com',\n",
       " 'lijua.com',\n",
       " 'xnulw.com',\n",
       " 'xxugt.com',\n",
       " 'mddhy.com',\n",
       " 'wujjs.com',\n",
       " 'tauzo.com',\n",
       " 'zpbkw.com',\n",
       " 'ydtlw.com',\n",
       " 'ykfrv.com',\n",
       " 'izbgz.com',\n",
       " 'tpswd.com',\n",
       " 'agfei.com',\n",
       " 'lijtu.com',\n",
       " 'xpffk.com',\n",
       " 'zkcep.com',\n",
       " 'thfed.com',\n",
       " 'tawht.com',\n",
       " 'hugtc.com',\n",
       " 'bhjwj.com',\n",
       " 'dmbrh.com',\n",
       " 'ldgxt.com',\n",
       " 'wlpro.com',\n",
       " 'kkuvu.com',\n",
       " 'skuvv.com',\n",
       " 'qlhdq.com',\n",
       " 'xituv.com',\n",
       " 'afzjt.com',\n",
       " 'urbci.com',\n",
       " 'encwc.com',\n",
       " 'oxxwq.com',\n",
       " 'hsskw.com',\n",
       " 'cmbwg.com',\n",
       " 'jfvoj.com',\n",
       " 'yqitt.com',\n",
       " 'yxpja.com',\n",
       " 'fpjbb.com',\n",
       " 'wjfxx.com',\n",
       " 'egtdh.com',\n",
       " 'rldgx.com',\n",
       " 'xboqn.com',\n",
       " 'xeaou.com',\n",
       " 'cwgpf.com',\n",
       " 'moiyt.com',\n",
       " 'fkhiq.com',\n",
       " 'hpcop.com',\n",
       " 'foeeh.com',\n",
       " 'vfmup.com',\n",
       " 'dvthf.com',\n",
       " 'xebtr.com',\n",
       " 'opjay.com',\n",
       " 'ttolm.com',\n",
       " 'oixqk.com',\n",
       " 'vplne.com',\n",
       " 'bxlng.com',\n",
       " 'ktopi.com',\n",
       " 'qyvjg.com',\n",
       " 'vmyhm.com',\n",
       " 'wqnsa.com',\n",
       " 'tauwb.com',\n",
       " 'lomun.com',\n",
       " 'fzkyr.com',\n",
       " 'cjpwq.com',\n",
       " 'rvfjh.com',\n",
       " 'jystq.com',\n",
       " 'qwmul.com',\n",
       " 'wwrtt.com',\n",
       " 'bsmgs.com',\n",
       " 'kzsos.com',\n",
       " 'creup.com',\n",
       " 'pbmfq.com',\n",
       " 'ezmmv.com',\n",
       " 'cbype.com',\n",
       " 'cavde.com',\n",
       " 'dpqmm.com',\n",
       " 'ecbua.com',\n",
       " 'emwyd.com',\n",
       " 'hqitt.com',\n",
       " 'xkijv.com',\n",
       " 'xvlrd.com',\n",
       " 'oebvz.com',\n",
       " 'uarkx.com',\n",
       " 'vyirk.com',\n",
       " 'pfgna.com',\n",
       " 'ykbci.com',\n",
       " 'bgdtm.com',\n",
       " 'uwbpx.com',\n",
       " 'ipcnh.com',\n",
       " 'ypexd.com',\n",
       " 'cbyst.com',\n",
       " 'sosxn.com',\n",
       " 'nhuei.com',\n",
       " 'wqmog.com',\n",
       " 'lqwoc.com',\n",
       " 'tpqjv.com',\n",
       " 'hsrgg.com',\n",
       " 'korrl.com',\n",
       " 'pllxh.com',\n",
       " 'btusf.com',\n",
       " 'ydtkr.com',\n",
       " 'crgak.com',\n",
       " 'dppey.com',\n",
       " 'ohtxi.com',\n",
       " 'lfrvf.com',\n",
       " 'vmxgl.com',\n",
       " 'oedcb.com',\n",
       " 'rbdmz.com',\n",
       " 'octon.com',\n",
       " 'ktsjn.com',\n",
       " 'qhmpn.com',\n",
       " 'tzqgh.com',\n",
       " 'ekkwg.com',\n",
       " 'cbxln.com',\n",
       " 'cvcvy.com',\n",
       " 'strdn.com',\n",
       " 'xhpff.com',\n",
       " 'hdsjq.com',\n",
       " 'otbbz.com',\n",
       " 'tmbux.com',\n",
       " 'ushdv.com',\n",
       " 'elpuc.com',\n",
       " 'yjveg.com',\n",
       " 'yqkbx.com',\n",
       " 'mykch.com',\n",
       " 'vvtgw.com',\n",
       " 'fizyt.com',\n",
       " 'vlups.com',\n",
       " 'uhzdq.com',\n",
       " 'yyyxt.com',\n",
       " 'cslyn.com',\n",
       " 'xhtxh.com',\n",
       " 'aethf.com',\n",
       " 'tmfog.com',\n",
       " 'qrmhc.com',\n",
       " 'qiuyl.com',\n",
       " 'apagc.com',\n",
       " 'mxecy.com',\n",
       " 'pdtom.com',\n",
       " 'iaery.com',\n",
       " 'wogms.com',\n",
       " 'ptzrm.com',\n",
       " 'oocsj.com',\n",
       " 'suwyf.com',\n",
       " 'crfye.com',\n",
       " 'xcqzb.com',\n",
       " 'dvyir.com',\n",
       " 'ygefm.com',\n",
       " 'mohuc.com',\n",
       " 'jwiwn.com',\n",
       " 'efkkv.com',\n",
       " 'jxkfv.com',\n",
       " 'psuuq.com',\n",
       " 'tkrgc.com',\n",
       " 'jmlqy.com',\n",
       " 'rhmlt.com',\n",
       " 'neguf.com',\n",
       " 'uznoh.com',\n",
       " 'sxobl.com',\n",
       " 'ouigi.com',\n",
       " 'oqmmx.com',\n",
       " 'btrfw.com',\n",
       " 'wodwb.com',\n",
       " 'eyhov.com',\n",
       " 'pgjfv.com',\n",
       " 'fwtem.com',\n",
       " 'gnxds.com',\n",
       " 'vsbbe.com',\n",
       " 'jhiss.com',\n",
       " 'beszv.com',\n",
       " 'gxuif.com',\n",
       " 'qdpsu.com',\n",
       " 'cwecb.com',\n",
       " 'biljj.com',\n",
       " 'rqhnq.com',\n",
       " 'moizz.com',\n",
       " 'ezlig.com',\n",
       " 'qotem.com',\n",
       " 'muqql.com',\n",
       " 'fuknk.com',\n",
       " 'hxufo.com',\n",
       " 'tolmf.com',\n",
       " 'nujjv.com',\n",
       " 'hsrfc.com',\n",
       " 'qhoyd.com',\n",
       " 'lhbjr.com',\n",
       " 'gzfzj.com',\n",
       " 'tjopk.com',\n",
       " 'wctom.com',\n",
       " 'lmcbv.com',\n",
       " 'nhvlo.com',\n",
       " 'spwpk.com',\n",
       " 'qkztw.com',\n",
       " 'xdsil.com',\n",
       " 'mqsri.com',\n",
       " 'dhafc.com',\n",
       " 'pybgb.com',\n",
       " 'xlmyl.com',\n",
       " 'xjdlv.com',\n",
       " 'bbdkr.com',\n",
       " 'amlsi.com',\n",
       " 'ohufn.com',\n",
       " 'nruyi.com',\n",
       " 'noixo.com',\n",
       " 'curaa.com',\n",
       " 'vxdvt.com',\n",
       " 'zjwjb.com',\n",
       " 'orqex.com',\n",
       " 'vxdvx.com',\n",
       " 'itusf.com',\n",
       " 'kgycl.com',\n",
       " 'negte.com',\n",
       " 'ncwdw.com',\n",
       " 'wjfwv.com',\n",
       " 'fsdmy.com',\n",
       " 'veibh.com',\n",
       " 'xhqhl.com',\n",
       " 'fsbxo.com',\n",
       " 'hdtlb.com',\n",
       " 'oswjb.com',\n",
       " 'jikax.com',\n",
       " 'btoph.com',\n",
       " 'vgrqg.com',\n",
       " 'ttoph.com',\n",
       " 'flpqk.com',\n",
       " 'yhmqt.com',\n",
       " 'xtbba.com',\n",
       " 'zssin.com',\n",
       " 'jlcfq.com',\n",
       " 'kfumy.com',\n",
       " 'ufnda.com',\n",
       " 'kbxlm.com',\n",
       " 'fbqbi.com',\n",
       " 'hmohu.com',\n",
       " 'jchff.com',\n",
       " 'nsxoy.com',\n",
       " 'yfbqc.com',\n",
       " 'qirmh.com',\n",
       " 'phocq.com',\n",
       " 'diged.com',\n",
       " 'cfqpe.com',\n",
       " 'rilig.com',\n",
       " 'sqclx.com',\n",
       " 'ufrtv.com',\n",
       " 'slcaw.com',\n",
       " 'breuo.com',\n",
       " 'fqrka.com',\n",
       " 'rvgoc.com',\n",
       " 'vlvul.com',\n",
       " 'vupnw.com',\n",
       " 'ophnu.com',\n",
       " 'ckuun.com',\n",
       " 'etgyd.com',\n",
       " 'llzow.com',\n",
       " 'bhisp.com',\n",
       " 'esepm.com',\n",
       " 'pkfum.com',\n",
       " 'tlxhq.com',\n",
       " 'ucxjb.com',\n",
       " 'ripze.com',\n",
       " 'wocvv.com',\n",
       " 'erucb.com',\n",
       " 'gxxsw.com',\n",
       " 'dshfd.com',\n",
       " 'gebso.com',\n",
       " 'idrbg.com',\n",
       " 'prpxw.com',\n",
       " 'cnkkt.com',\n",
       " 'rerwl.com',\n",
       " 'dqtzp.com',\n",
       " 'wtgyd.com',\n",
       " 'kqyyw.com',\n",
       " 'cvwyc.com',\n",
       " 'zkbzv.com',\n",
       " 'pntft.com',\n",
       " 'lendc.com',\n",
       " 'nxydr.com',\n",
       " 'fhufq.com',\n",
       " 'chdsg.com',\n",
       " 'zghrn.com',\n",
       " 'xeeia.com',\n",
       " 'wwscd.com',\n",
       " 'tjorr.com',\n",
       " 'swgoa.com',\n",
       " 'crdnh.com',\n",
       " 'iuden.com',\n",
       " 'wwwrw.com',\n",
       " 'vqsos.com',\n",
       " 'elqvg.com',\n",
       " 'syrnm.com',\n",
       " 'binqn.com',\n",
       " 'dwctl.com',\n",
       " 'pkeok.com',\n",
       " 'ynrub.com',\n",
       " 'nbqcl.com',\n",
       " 'djmie.com',\n",
       " 'aosyq.com',\n",
       " 'oyewb.com',\n",
       " 'wtcen.com',\n",
       " 'jgedy.com',\n",
       " 'zkbxm.com',\n",
       " 'bsmic.com',\n",
       " 'fbsio.com',\n",
       " 'ceoiv.com',\n",
       " 'dfohs.com',\n",
       " 'wdwdy.com',\n",
       " 'ufqns.com',\n",
       " 'jjsoq.com',\n",
       " 'uddig.com',\n",
       " 'icmcy.com',\n",
       " 'ysvxe.com',\n",
       " 'igfhw.com',\n",
       " 'dbsor.com',\n",
       " 'luupo.com',\n",
       " 'rotfq.com',\n",
       " 'qgixo.com',\n",
       " 'kkutm.com',\n",
       " 'xzfcr.com',\n",
       " 'xsuwb.com',\n",
       " 'nuluq.com',\n",
       " 'cpvie.com',\n",
       " 'cmhvk.com',\n",
       " 'trgdv.com',\n",
       " 'uxebt.com',\n",
       " 'xiysv.com',\n",
       " 'btsil.com',\n",
       " 'tjqbf.com',\n",
       " 'vulto.com',\n",
       " 'nmvti.com',\n",
       " 'tatus.com',\n",
       " 'fwvoi.com',\n",
       " 'copkb.com',\n",
       " 'mgtbx.com',\n",
       " 'ekmhw.com',\n",
       " 'arlem.com',\n",
       " 'sorsp.com',\n",
       " 'oiyvh.com',\n",
       " 'unhsv.com',\n",
       " 'tpvjh.com',\n",
       " 'jmifc.com',\n",
       " 'ulton.com',\n",
       " 'cymqs.com',\n",
       " 'jwjch.com',\n",
       " 'nmwbm.com',\n",
       " 'hlhew.com',\n",
       " 'kqdqv.com',\n",
       " 'hkhdr.com',\n",
       " 'nrzve.com',\n",
       " 'dzpyd.com',\n",
       " 'dxjxn.com',\n",
       " 'nbqev.com',\n",
       " 'xrovp.com',\n",
       " 'smeie.com',\n",
       " 'qrpxv.com',\n",
       " 'mryst.com',\n",
       " 'hubxm.com',\n",
       " 'egsva.com',\n",
       " 'uvtjm.com',\n",
       " 'uvvsz.com',\n",
       " 'uvxbk.com',\n",
       " 'jvcvb.com',\n",
       " 'yglik.com',\n",
       " 'vkmdh.com',\n",
       " 'goffm.com',\n",
       " 'ufogl.com',\n",
       " 'ecwgn.com',\n",
       " 'ppecw.com',\n",
       " 'imknl.com',\n",
       " 'rdppg.com',\n",
       " 'useqr.com',\n",
       " 'yssjq.com',\n",
       " 'chcor.com',\n",
       " 'jeult.com',\n",
       " 'ungoe.com',\n",
       " 'bttmc.com',\n",
       " 'ibgdu.com',\n",
       " 'nyfeg.com',\n",
       " 'kpsux.com',\n",
       " 'gjcgc.com',\n",
       " 'vlusc.com',\n",
       " 'ovmwx.com',\n",
       " 'hqhll.com',\n",
       " 'ugtav.com',\n",
       " 'mrytw.com',\n",
       " 'elpty.com',\n",
       " 'mtikx.com',\n",
       " 'ijvcz.com',\n",
       " 'avfnw.com',\n",
       " 'pcood.com',\n",
       " 'bawmq.com',\n",
       " 'akwfl.com',\n",
       " 'sksni.com',\n",
       " 'rcijx.com',\n",
       " 'ofixp.com',\n",
       " 'qcinn.com',\n",
       " 'qwnwx.com',\n",
       " 'udgug.com',\n",
       " 'hstsg.com',\n",
       " 'wjcjo.com',\n",
       " 'iuxiw.com']"
      ]
     },
     "execution_count": 146,
     "metadata": {},
     "output_type": "execute_result"
    }
   ],
   "source": [
    "domains"
   ]
  },
  {
   "cell_type": "code",
   "execution_count": 159,
   "id": "c1ff5a3f",
   "metadata": {},
   "outputs": [],
   "source": [
    "from sklearn.preprocessing import OrdinalEncoder\n",
    "enc=OrdinalEncoder(categories=[domains])\n",
    "enc.fit(users[['email_domain']])\n",
    "users['email_domains']=enc.transform(users[['email_domain']])"
   ]
  },
  {
   "cell_type": "code",
   "execution_count": 160,
   "id": "ee371375",
   "metadata": {
    "scrolled": true
   },
   "outputs": [
    {
     "data": {
      "text/html": [
       "<div>\n",
       "<style scoped>\n",
       "    .dataframe tbody tr th:only-of-type {\n",
       "        vertical-align: middle;\n",
       "    }\n",
       "\n",
       "    .dataframe tbody tr th {\n",
       "        vertical-align: top;\n",
       "    }\n",
       "\n",
       "    .dataframe thead th {\n",
       "        text-align: right;\n",
       "    }\n",
       "</style>\n",
       "<table border=\"1\" class=\"dataframe\">\n",
       "  <thead>\n",
       "    <tr style=\"text-align: right;\">\n",
       "      <th></th>\n",
       "      <th>email_domain</th>\n",
       "      <th>email_domains</th>\n",
       "    </tr>\n",
       "  </thead>\n",
       "  <tbody>\n",
       "    <tr>\n",
       "      <th>0</th>\n",
       "      <td>yahoo.com</td>\n",
       "      <td>1.0</td>\n",
       "    </tr>\n",
       "    <tr>\n",
       "      <th>1</th>\n",
       "      <td>gustr.com</td>\n",
       "      <td>3.0</td>\n",
       "    </tr>\n",
       "    <tr>\n",
       "      <th>2</th>\n",
       "      <td>gustr.com</td>\n",
       "      <td>3.0</td>\n",
       "    </tr>\n",
       "    <tr>\n",
       "      <th>3</th>\n",
       "      <td>yahoo.com</td>\n",
       "      <td>1.0</td>\n",
       "    </tr>\n",
       "    <tr>\n",
       "      <th>4</th>\n",
       "      <td>yahoo.com</td>\n",
       "      <td>1.0</td>\n",
       "    </tr>\n",
       "    <tr>\n",
       "      <th>...</th>\n",
       "      <td>...</td>\n",
       "      <td>...</td>\n",
       "    </tr>\n",
       "    <tr>\n",
       "      <th>11995</th>\n",
       "      <td>gustr.com</td>\n",
       "      <td>3.0</td>\n",
       "    </tr>\n",
       "    <tr>\n",
       "      <th>11996</th>\n",
       "      <td>gmail.com</td>\n",
       "      <td>0.0</td>\n",
       "    </tr>\n",
       "    <tr>\n",
       "      <th>11997</th>\n",
       "      <td>cuvox.de</td>\n",
       "      <td>4.0</td>\n",
       "    </tr>\n",
       "    <tr>\n",
       "      <th>11998</th>\n",
       "      <td>iuxiw.com</td>\n",
       "      <td>811.0</td>\n",
       "    </tr>\n",
       "    <tr>\n",
       "      <th>11999</th>\n",
       "      <td>hotmail.com</td>\n",
       "      <td>5.0</td>\n",
       "    </tr>\n",
       "  </tbody>\n",
       "</table>\n",
       "<p>8810 rows × 2 columns</p>\n",
       "</div>"
      ],
      "text/plain": [
       "      email_domain  email_domains\n",
       "0        yahoo.com            1.0\n",
       "1        gustr.com            3.0\n",
       "2        gustr.com            3.0\n",
       "3        yahoo.com            1.0\n",
       "4        yahoo.com            1.0\n",
       "...            ...            ...\n",
       "11995    gustr.com            3.0\n",
       "11996    gmail.com            0.0\n",
       "11997     cuvox.de            4.0\n",
       "11998    iuxiw.com          811.0\n",
       "11999  hotmail.com            5.0\n",
       "\n",
       "[8810 rows x 2 columns]"
      ]
     },
     "execution_count": 160,
     "metadata": {},
     "output_type": "execute_result"
    }
   ],
   "source": [
    "users[['email_domain', 'email_domains']]"
   ]
  },
  {
   "cell_type": "code",
   "execution_count": 161,
   "id": "b0feb4db",
   "metadata": {
    "scrolled": true
   },
   "outputs": [
    {
     "data": {
      "text/plain": [
       "0.0      2923\n",
       "1.0      1722\n",
       "2.0       882\n",
       "3.0       841\n",
       "4.0       828\n",
       "         ... \n",
       "807.0       1\n",
       "808.0       1\n",
       "809.0       1\n",
       "810.0       1\n",
       "811.0       1\n",
       "Name: email_domains, Length: 812, dtype: int64"
      ]
     },
     "execution_count": 161,
     "metadata": {},
     "output_type": "execute_result"
    }
   ],
   "source": [
    "users.email_domains.value_counts()"
   ]
  },
  {
   "cell_type": "code",
   "execution_count": 162,
   "id": "c646d484",
   "metadata": {},
   "outputs": [],
   "source": [
    "users.email_domains=users.email_domains.apply(lambda x: x if x<6. else (6. if x<14 else 7.))"
   ]
  },
  {
   "cell_type": "code",
   "execution_count": 163,
   "id": "30f6844b",
   "metadata": {
    "scrolled": false
   },
   "outputs": [
    {
     "data": {
      "text/plain": [
       "0.0    2923\n",
       "1.0    1722\n",
       "2.0     882\n",
       "3.0     841\n",
       "4.0     828\n",
       "5.0     803\n",
       "7.0     798\n",
       "6.0      13\n",
       "Name: email_domains, dtype: int64"
      ]
     },
     "execution_count": 163,
     "metadata": {},
     "output_type": "execute_result"
    }
   ],
   "source": [
    "users.email_domains.value_counts()"
   ]
  },
  {
   "cell_type": "markdown",
   "id": "62317aa6",
   "metadata": {},
   "source": [
    "0.: gmail\n",
    "1.: yahoo\n",
    "2.: jourrapide\n",
    "3.: gustr\n",
    "4.: cuvox\n",
    "5.: hotmail\n",
    "6.: email domains with user count=2\n",
    "7.: email domains with user count=1"
   ]
  },
  {
   "cell_type": "code",
   "execution_count": 457,
   "id": "76b9753a",
   "metadata": {},
   "outputs": [
    {
     "data": {
      "image/png": "[encoded data removed]",
      "text/plain": [
       "<Figure size 576x360 with 1 Axes>"
      ]
     },
     "metadata": {
      "needs_background": "light"
     },
     "output_type": "display_data"
    }
   ],
   "source": [
    "categories=sorted(users['email_domains'].unique())\n",
    "adopted=[]\n",
    "not_adopted=[]\n",
    "for c in categories:\n",
    "    c_con=users.email_domains==c\n",
    "    n=len(users[c_con])\n",
    "    adopted.append(len(users[(users.adopted==1.)&(c_con)])/n)\n",
    "    not_adopted.append(len(users[(users.adopted==0.)&(c_con)])/n)\n",
    "adopted=np.array(adopted)\n",
    "not_adopted=np.array(not_adopted)\n",
    "\n",
    "width=0.2\n",
    "fig, ax = plt.subplots(1,1, figsize=(8,5))\n",
    "bar1=ax.bar(categories, not_adopted, label='not adopted', width=width)\n",
    "bar2=ax.bar(categories, adopted, label='adopted', bottom=not_adopted, width=width)\n",
    "ax.set_ylabel('Relative Frequency')\n",
    "ax.set_xlabel('Email Domains')\n",
    "ax.set_title('Adoption Rates within Email Domain Groups')\n",
    "ax.legend(fontsize=10)\n",
    "ax.bar_label(bar1, labels=np.round(not_adopted, 3), label_type='center')\n",
    "ax.bar_label(bar2, labels=np.round(adopted, 3), label_type='center')\n",
    "\n",
    "plt.show()\n",
    "    "
   ]
  },
  {
   "cell_type": "code",
   "execution_count": null,
   "id": "95865955",
   "metadata": {},
   "outputs": [],
   "source": []
  },
  {
   "cell_type": "code",
   "execution_count": 247,
   "id": "2ca1aa51",
   "metadata": {},
   "outputs": [],
   "source": [
    "rows=[]\n",
    "cols=['creation_source', 'opted_in_to_mailing_list', 'enabled_for_marketing_drip', 'time_groups', 'email_domains', 'org_groups']\n",
    "for c1 in cols:\n",
    "    col=[]\n",
    "    for c2 in cols:\n",
    "        cramers=cramers_v(users[c1], users[c2])\n",
    "        col.append(round(cramers,2))\n",
    "    rows.append(col)\n",
    "    \n",
    "cramersV_df=pd.DataFrame(np.array(rows), columns=cols, index=cols)"
   ]
  },
  {
   "cell_type": "code",
   "execution_count": 248,
   "id": "66f2b81b",
   "metadata": {
    "scrolled": false
   },
   "outputs": [
    {
     "data": {
      "image/png": "[encoded data removed]",
      "text/plain": [
       "<Figure size 864x720 with 2 Axes>"
      ]
     },
     "metadata": {
      "needs_background": "light"
     },
     "output_type": "display_data"
    }
   ],
   "source": [
    "fig, ax = plt.subplots(figsize=(12,10))\n",
    "sns.heatmap(cramersV_df[cols], annot=True, cmap='hot')\n",
    "ax.set_title(\"Cramer's V Heatmap\");"
   ]
  },
  {
   "cell_type": "code",
   "execution_count": 167,
   "id": "972dcf15",
   "metadata": {},
   "outputs": [
    {
     "data": {
      "text/html": [
       "<div>\n",
       "<style scoped>\n",
       "    .dataframe tbody tr th:only-of-type {\n",
       "        vertical-align: middle;\n",
       "    }\n",
       "\n",
       "    .dataframe tbody tr th {\n",
       "        vertical-align: top;\n",
       "    }\n",
       "\n",
       "    .dataframe thead th {\n",
       "        text-align: right;\n",
       "    }\n",
       "</style>\n",
       "<table border=\"1\" class=\"dataframe\">\n",
       "  <thead>\n",
       "    <tr style=\"text-align: right;\">\n",
       "      <th></th>\n",
       "      <th>time_stamp</th>\n",
       "      <th>user_id</th>\n",
       "      <th>visited</th>\n",
       "    </tr>\n",
       "  </thead>\n",
       "  <tbody>\n",
       "    <tr>\n",
       "      <th>0</th>\n",
       "      <td>2014-04-22 03:53:30</td>\n",
       "      <td>1</td>\n",
       "      <td>1</td>\n",
       "    </tr>\n",
       "    <tr>\n",
       "      <th>1</th>\n",
       "      <td>2013-11-15 03:45:04</td>\n",
       "      <td>2</td>\n",
       "      <td>1</td>\n",
       "    </tr>\n",
       "    <tr>\n",
       "      <th>2</th>\n",
       "      <td>2013-11-29 03:45:04</td>\n",
       "      <td>2</td>\n",
       "      <td>1</td>\n",
       "    </tr>\n",
       "    <tr>\n",
       "      <th>3</th>\n",
       "      <td>2013-12-09 03:45:04</td>\n",
       "      <td>2</td>\n",
       "      <td>1</td>\n",
       "    </tr>\n",
       "    <tr>\n",
       "      <th>4</th>\n",
       "      <td>2013-12-25 03:45:04</td>\n",
       "      <td>2</td>\n",
       "      <td>1</td>\n",
       "    </tr>\n",
       "  </tbody>\n",
       "</table>\n",
       "</div>"
      ],
      "text/plain": [
       "            time_stamp  user_id  visited\n",
       "0  2014-04-22 03:53:30        1        1\n",
       "1  2013-11-15 03:45:04        2        1\n",
       "2  2013-11-29 03:45:04        2        1\n",
       "3  2013-12-09 03:45:04        2        1\n",
       "4  2013-12-25 03:45:04        2        1"
      ]
     },
     "execution_count": 167,
     "metadata": {},
     "output_type": "execute_result"
    }
   ],
   "source": [
    "engagement=pd.read_csv('takehome_user_engagement.csv')\n",
    "engagement.head()"
   ]
  },
  {
   "cell_type": "code",
   "execution_count": 168,
   "id": "474eac00",
   "metadata": {},
   "outputs": [
    {
     "data": {
      "text/plain": [
       "1    207917\n",
       "Name: visited, dtype: int64"
      ]
     },
     "execution_count": 168,
     "metadata": {},
     "output_type": "execute_result"
    }
   ],
   "source": [
    "engagement.visited.value_counts()"
   ]
  },
  {
   "cell_type": "code",
   "execution_count": 169,
   "id": "e6d554b1",
   "metadata": {},
   "outputs": [
    {
     "data": {
      "text/plain": [
       "time_stamp    0\n",
       "user_id       0\n",
       "visited       0\n",
       "dtype: int64"
      ]
     },
     "execution_count": 169,
     "metadata": {},
     "output_type": "execute_result"
    }
   ],
   "source": [
    "engagement.isna().sum()"
   ]
  },
  {
   "cell_type": "code",
   "execution_count": 170,
   "id": "381cc50e",
   "metadata": {},
   "outputs": [
    {
     "data": {
      "text/plain": [
       "time_stamp    object\n",
       "user_id        int64\n",
       "visited        int64\n",
       "dtype: object"
      ]
     },
     "execution_count": 170,
     "metadata": {},
     "output_type": "execute_result"
    }
   ],
   "source": [
    "engagement.dtypes"
   ]
  },
  {
   "cell_type": "code",
   "execution_count": 171,
   "id": "df21da12",
   "metadata": {},
   "outputs": [
    {
     "data": {
      "text/plain": [
       "count                           207917\n",
       "mean     2013-10-30 05:06:45.648763648\n",
       "min                2012-05-31 08:20:06\n",
       "25%                2013-07-16 20:17:21\n",
       "50%                2013-12-03 06:38:34\n",
       "75%                2014-03-13 08:00:24\n",
       "max                2014-06-06 14:58:50\n",
       "Name: time_stamp, dtype: object"
      ]
     },
     "execution_count": 171,
     "metadata": {},
     "output_type": "execute_result"
    }
   ],
   "source": [
    "engagement.time_stamp=engagement.time_stamp.astype('datetime64[ns]')\n",
    "engagement.time_stamp.describe(datetime_is_numeric=True)"
   ]
  },
  {
   "cell_type": "markdown",
   "id": "29fa6a51",
   "metadata": {},
   "source": [
    "The engagement dataset runs from May 31, 2012 to June 6, 2014. "
   ]
  },
  {
   "cell_type": "code",
   "execution_count": 173,
   "id": "8b68d438",
   "metadata": {},
   "outputs": [
    {
     "data": {
      "text/html": [
       "<div>\n",
       "<style scoped>\n",
       "    .dataframe tbody tr th:only-of-type {\n",
       "        vertical-align: middle;\n",
       "    }\n",
       "\n",
       "    .dataframe tbody tr th {\n",
       "        vertical-align: top;\n",
       "    }\n",
       "\n",
       "    .dataframe thead th {\n",
       "        text-align: right;\n",
       "    }\n",
       "</style>\n",
       "<table border=\"1\" class=\"dataframe\">\n",
       "  <thead>\n",
       "    <tr style=\"text-align: right;\">\n",
       "      <th></th>\n",
       "      <th></th>\n",
       "      <th>user_id</th>\n",
       "      <th>visited</th>\n",
       "    </tr>\n",
       "    <tr>\n",
       "      <th>user_id</th>\n",
       "      <th>time_stamp</th>\n",
       "      <th></th>\n",
       "      <th></th>\n",
       "    </tr>\n",
       "  </thead>\n",
       "  <tbody>\n",
       "    <tr>\n",
       "      <th>1</th>\n",
       "      <th>2014-04-27</th>\n",
       "      <td>1</td>\n",
       "      <td>1</td>\n",
       "    </tr>\n",
       "    <tr>\n",
       "      <th rowspan=\"4\" valign=\"top\">2</th>\n",
       "      <th>2013-11-17</th>\n",
       "      <td>2</td>\n",
       "      <td>1</td>\n",
       "    </tr>\n",
       "    <tr>\n",
       "      <th>2013-11-24</th>\n",
       "      <td>0</td>\n",
       "      <td>0</td>\n",
       "    </tr>\n",
       "    <tr>\n",
       "      <th>2013-12-01</th>\n",
       "      <td>2</td>\n",
       "      <td>1</td>\n",
       "    </tr>\n",
       "    <tr>\n",
       "      <th>2013-12-08</th>\n",
       "      <td>0</td>\n",
       "      <td>0</td>\n",
       "    </tr>\n",
       "  </tbody>\n",
       "</table>\n",
       "</div>"
      ],
      "text/plain": [
       "                    user_id  visited\n",
       "user_id time_stamp                  \n",
       "1       2014-04-27        1        1\n",
       "2       2013-11-17        2        1\n",
       "        2013-11-24        0        0\n",
       "        2013-12-01        2        1\n",
       "        2013-12-08        0        0"
      ]
     },
     "execution_count": 173,
     "metadata": {},
     "output_type": "execute_result"
    }
   ],
   "source": [
    "df=engagement.groupby('user_id').resample('1W', on='time_stamp').sum()\n",
    "df.head()"
   ]
  },
  {
   "cell_type": "code",
   "execution_count": 174,
   "id": "5c9e5c1b",
   "metadata": {},
   "outputs": [
    {
     "data": {
      "text/plain": [
       "1    23131\n",
       "0    13475\n",
       "2    11817\n",
       "3     9415\n",
       "4     7348\n",
       "7     6695\n",
       "5     5756\n",
       "6     4645\n",
       "Name: visited, dtype: int64"
      ]
     },
     "execution_count": 174,
     "metadata": {},
     "output_type": "execute_result"
    }
   ],
   "source": [
    "df.visited.value_counts()"
   ]
  },
  {
   "cell_type": "code",
   "execution_count": 176,
   "id": "3d58337a",
   "metadata": {},
   "outputs": [
    {
     "data": {
      "text/plain": [
       "Int64Index([    1,     2,     2,     2,     2,     2,     2,     2,     2,\n",
       "                2,\n",
       "            ...\n",
       "            11991, 11991, 11991, 11992, 11995, 11996, 11997, 11998, 11999,\n",
       "            12000],\n",
       "           dtype='int64', name='user_id', length=82282)"
      ]
     },
     "execution_count": 176,
     "metadata": {},
     "output_type": "execute_result"
    }
   ],
   "source": [
    "df.index"
   ]
  },
  {
   "cell_type": "code",
   "execution_count": 175,
   "id": "8074c438",
   "metadata": {},
   "outputs": [],
   "source": [
    "df.index=df.index.droplevel(1)"
   ]
  },
  {
   "cell_type": "code",
   "execution_count": 177,
   "id": "35b0bf8a",
   "metadata": {},
   "outputs": [
    {
     "data": {
      "text/plain": [
       "Int64Index([    1,     2,     2,     2,     2,     2,     2,     2,     2,\n",
       "                2,\n",
       "            ...\n",
       "            11991, 11991, 11991, 11992, 11995, 11996, 11997, 11998, 11999,\n",
       "            12000],\n",
       "           dtype='int64', name='user_id', length=82282)"
      ]
     },
     "execution_count": 177,
     "metadata": {},
     "output_type": "execute_result"
    }
   ],
   "source": [
    "df.index"
   ]
  },
  {
   "cell_type": "markdown",
   "id": "ad4cafe3",
   "metadata": {},
   "source": [
    "adopted_map is a dict that will map the user id to 0 if the user logged in less than 3 times in a week and 1 if they are considered an adopted user.\n",
    "\n",
    "\n"
   ]
  },
  {
   "cell_type": "code",
   "execution_count": 180,
   "id": "5dce558e",
   "metadata": {},
   "outputs": [],
   "source": [
    "adopted_map={}\n",
    "for idx in df.index:\n",
    "    if (df.visited[idx]>=3).any():\n",
    "        adopted_map[idx]=1\n",
    "    else:\n",
    "        adopted_map[idx]=0\n",
    "users['adopted']=users['object_id'].map(adopted_map)"
   ]
  },
  {
   "cell_type": "code",
   "execution_count": 181,
   "id": "65256b7a",
   "metadata": {
    "scrolled": true
   },
   "outputs": [
    {
     "data": {
      "text/plain": [
       "False"
      ]
     },
     "execution_count": 181,
     "metadata": {},
     "output_type": "execute_result"
    }
   ],
   "source": [
    "users.adopted.isna().any()"
   ]
  },
  {
   "cell_type": "code",
   "execution_count": 182,
   "id": "5a7ae492",
   "metadata": {
    "scrolled": true
   },
   "outputs": [
    {
     "data": {
      "text/plain": [
       "0        0\n",
       "1        1\n",
       "2        0\n",
       "3        0\n",
       "4        0\n",
       "        ..\n",
       "11995    0\n",
       "11996    0\n",
       "11997    0\n",
       "11998    0\n",
       "11999    0\n",
       "Name: adopted, Length: 8810, dtype: int64"
      ]
     },
     "execution_count": 182,
     "metadata": {},
     "output_type": "execute_result"
    }
   ],
   "source": [
    "users.adopted"
   ]
  },
  {
   "cell_type": "code",
   "execution_count": 183,
   "id": "4cb2aab8",
   "metadata": {
    "scrolled": true
   },
   "outputs": [
    {
     "data": {
      "text/plain": [
       "0    7365\n",
       "1    1445\n",
       "Name: adopted, dtype: int64"
      ]
     },
     "execution_count": 183,
     "metadata": {},
     "output_type": "execute_result"
    }
   ],
   "source": [
    "users.adopted.value_counts()"
   ]
  },
  {
   "cell_type": "code",
   "execution_count": 187,
   "id": "91ebad7b",
   "metadata": {
    "scrolled": false
   },
   "outputs": [
    {
     "data": {
      "text/plain": [
       "Index(['object_id', 'creation_time', 'name', 'email', 'creation_source',\n",
       "       'last_session_creation_time', 'opted_in_to_mailing_list',\n",
       "       'enabled_for_marketing_drip', 'org_id', 'invited_by_user_id',\n",
       "       'usage_time', 'invited_by_user', 'invitees', 'creation_source_ordinal',\n",
       "       'time_groups', 'email_domain', 'email_domain_ordinal', 'email_domains',\n",
       "       'adopted', 'creation_sources'],\n",
       "      dtype='object')"
      ]
     },
     "execution_count": 187,
     "metadata": {},
     "output_type": "execute_result"
    }
   ],
   "source": [
    "users.columns"
   ]
  },
  {
   "cell_type": "code",
   "execution_count": 185,
   "id": "64dccd9b",
   "metadata": {},
   "outputs": [],
   "source": [
    "from sklearn.model_selection import train_test_split, GridSearchCV\n",
    "from sklearn.ensemble import RandomForestClassifier\n",
    "from sklearn.metrics import roc_curve, precision_recall_curve, classification_report, confusion_matrix, ConfusionMatrixDisplay "
   ]
  },
  {
   "cell_type": "markdown",
   "id": "48cd9231",
   "metadata": {},
   "source": [
    "Features to consider are creation_sources, opted_in_to_mailing_list, enabled_for_marketing_drip, email_domains, org_id, and invitees, but 'opted_in_to_mailing_list' and 'enabled_for_marketing_drip' are features with very low "
   ]
  },
  {
   "cell_type": "code",
   "execution_count": 211,
   "id": "ad4f0093",
   "metadata": {},
   "outputs": [],
   "source": [
    "cols=['creation_sources', 'org_id', 'invitees', 'email_domains', 'opted_in_to_mailing_list', 'enabled_for_marketing_drip']\n",
    "X=users[cols]\n",
    "y=users[['adopted']].values.ravel()\n",
    "X_train, X_test, y_train, y_test = train_test_split(X, y, test_size=0.5, random_state=16)"
   ]
  },
  {
   "cell_type": "code",
   "execution_count": 212,
   "id": "ca9f0997",
   "metadata": {},
   "outputs": [
    {
     "name": "stdout",
     "output_type": "stream",
     "text": [
      "Tuned Random Forest Parameter: {'criterion': 'gini', 'max_depth': 1, 'max_features': 'sqrt', 'n_estimators': 10}\n",
      "Tuned Random Forest Score: 0.5830942097528977\n"
     ]
    }
   ],
   "source": [
    "rf=RandomForestClassifier(random_state=16)\n",
    "param_grid={'n_estimators':[10, 50, 100, 300, 500, 700, 1000],\n",
    "            'criterion':['gini', 'entropy'],\n",
    "            'max_features':['sqrt', 'log2'],\n",
    "            'max_depth':[None, 1, 3, 5, 7, 15, 30]}\n",
    "rf_cv=GridSearchCV(rf, param_grid, scoring='roc_auc', cv=10)\n",
    "rf_cv.fit(X_train, y_train)\n",
    "print(\"Tuned Random Forest Parameter: {}\".format(rf_cv.best_params_))\n",
    "print(\"Tuned Random Forest Score: {}\".format(rf_cv.best_score_))"
   ]
  },
  {
   "cell_type": "code",
   "execution_count": 213,
   "id": "898a6e68",
   "metadata": {},
   "outputs": [],
   "source": [
    "clf=RandomForestClassifier(criterion='gini', max_depth=1, max_features='sqrt', n_estimators=10, random_state=16)\n",
    "clf.fit(X_train, y_train)\n",
    "y_pred=clf.predict(X_test)\n",
    "y_pred_prob=clf.predict_proba(X_test)[:,1]\n",
    "fpr, tpr, thresholds=roc_curve(y_test, y_pred_prob)"
   ]
  },
  {
   "cell_type": "code",
   "execution_count": 214,
   "id": "78154179",
   "metadata": {},
   "outputs": [
    {
     "data": {
      "image/png": "[encoded data removed]",
      "text/plain": [
       "<Figure size 432x288 with 1 Axes>"
      ]
     },
     "metadata": {
      "needs_background": "light"
     },
     "output_type": "display_data"
    }
   ],
   "source": [
    "plt.plot([0,1],[0,1],'k--')\n",
    "plt.plot(fpr, tpr, label='Random Forest Classifier') \n",
    "plt.grid()\n",
    "plt.xlabel('False Positive Rate') \n",
    "plt.ylabel('True Positive Rate')\n",
    "plt.title('ROC Curve') \n",
    "plt.legend()\n",
    "plt.show()"
   ]
  },
  {
   "cell_type": "code",
   "execution_count": 215,
   "id": "178c8af5",
   "metadata": {},
   "outputs": [],
   "source": [
    "import shap\n",
    "explainer=shap.TreeExplainer(clf)\n",
    "shap_values=explainer.shap_values(X_test)"
   ]
  },
  {
   "cell_type": "code",
   "execution_count": 222,
   "id": "7d9939f8",
   "metadata": {
    "scrolled": true
   },
   "outputs": [
    {
     "data": {
      "image/png": "[encoded data removed]",
      "text/plain": [
       "<Figure size 576x360 with 2 Axes>"
      ]
     },
     "metadata": {
      "needs_background": "light"
     },
     "output_type": "display_data"
    }
   ],
   "source": [
    "plt.figure(figsize=(8,5))\n",
    "shap.summary_plot(shap_values[1], X_test, plot_type='bar', color='lightblue', plot_size=None, show=False)\n",
    "shap.summary_plot(shap_values[1], X_test, plot_size=None, show=False, alpha=0.5)\n",
    "\n",
    "plt.show()"
   ]
  },
  {
   "cell_type": "code",
   "execution_count": 364,
   "id": "3b78c94f",
   "metadata": {},
   "outputs": [],
   "source": [
    "cols=['creation_sources', 'org_groups', 'invitees', 'email_domains']\n",
    "X=users[cols]\n",
    "y=users[['adopted']].values.ravel()\n",
    "X_train, X_test, y_train, y_test = train_test_split(X, y, test_size=0.5, random_state=16)"
   ]
  },
  {
   "cell_type": "code",
   "execution_count": 365,
   "id": "f3d82561",
   "metadata": {},
   "outputs": [
    {
     "name": "stdout",
     "output_type": "stream",
     "text": [
      "Tuned Random Forest Parameter: {'criterion': 'gini', 'max_depth': 3, 'max_features': 'sqrt', 'n_estimators': 10}\n",
      "Tuned Random Forest Score: 0.584796596918595\n"
     ]
    }
   ],
   "source": [
    "rf=RandomForestClassifier(random_state=16)\n",
    "param_grid={'n_estimators':[10, 50, 100, 300, 500, 700, 1000],\n",
    "            'criterion':['gini', 'entropy'],\n",
    "            'max_features':['sqrt', 'log2'],\n",
    "            'max_depth':[None, 1, 3, 5, 7, 15, 30]}\n",
    "rf_cv=GridSearchCV(rf, param_grid, scoring='roc_auc', cv=10)\n",
    "rf_cv.fit(X_train, y_train)\n",
    "print(\"Tuned Random Forest Parameter: {}\".format(rf_cv.best_params_))\n",
    "print(\"Tuned Random Forest Score: {}\".format(rf_cv.best_score_))"
   ]
  },
  {
   "cell_type": "code",
   "execution_count": 367,
   "id": "da99418e",
   "metadata": {},
   "outputs": [
    {
     "data": {
      "image/png": "[encoded data removed]",
      "text/plain": [
       "<Figure size 432x288 with 1 Axes>"
      ]
     },
     "metadata": {
      "needs_background": "light"
     },
     "output_type": "display_data"
    }
   ],
   "source": [
    "plt.plot([0,1],[0,1],'k--')\n",
    "plt.plot(fpr, tpr, label='Random Forest Classifier') \n",
    "plt.grid()\n",
    "plt.xlabel('False Positive Rate') \n",
    "plt.ylabel('True Positive Rate')\n",
    "plt.title('ROC Curve') \n",
    "plt.legend()\n",
    "plt.show()"
   ]
  },
  {
   "cell_type": "code",
   "execution_count": 368,
   "id": "3b9b75d3",
   "metadata": {},
   "outputs": [],
   "source": [
    "import shap\n",
    "explainer=shap.TreeExplainer(clf)\n",
    "shap_values=explainer.shap_values(X_test)"
   ]
  },
  {
   "cell_type": "code",
   "execution_count": 369,
   "id": "2ec33cd5",
   "metadata": {},
   "outputs": [
    {
     "data": {
      "image/png": "[encoded data removed]",
      "text/plain": [
       "<Figure size 576x360 with 2 Axes>"
      ]
     },
     "metadata": {
      "needs_background": "light"
     },
     "output_type": "display_data"
    }
   ],
   "source": [
    "\n",
    "plt.figure(figsize=(8,5))\n",
    "shap.summary_plot(shap_values[1], X_test, plot_type='bar', color='lightblue', plot_size=None, show=False)\n",
    "shap.summary_plot(shap_values[1], X_test, plot_size=None, show=False, alpha=0.5)\n",
    "plt.show()"
   ]
  },
  {
   "cell_type": "code",
   "execution_count": 400,
   "id": "0d569ead",
   "metadata": {},
   "outputs": [],
   "source": [
    "from sklearn.linear_model import LogisticRegression"
   ]
  },
  {
   "cell_type": "code",
   "execution_count": 401,
   "id": "a68da392",
   "metadata": {},
   "outputs": [
    {
     "name": "stdout",
     "output_type": "stream",
     "text": [
      "Tuned Logistic Regression Parameter: {'C': 10}\n",
      "Tuned Logistic Regression Score: 0.5653651558321113\n"
     ]
    }
   ],
   "source": [
    "clf=LogisticRegression(random_state=16)\n",
    "param_grid={'C':[0.001, 0.01, 0.1, 1, 10, 100, 1000]}\n",
    "logreg_cv=GridSearchCV(clf, param_grid, scoring='roc_auc', cv=10)\n",
    "logreg_cv.fit(X_train, y_train)\n",
    "print(\"Tuned Logistic Regression Parameter: {}\".format(logreg_cv.best_params_))\n",
    "print(\"Tuned Logistic Regression Score: {}\".format(logreg_cv.best_score_))"
   ]
  },
  {
   "cell_type": "code",
   "execution_count": 404,
   "id": "ac255d73",
   "metadata": {},
   "outputs": [],
   "source": [
    "from xgboost import XGBClassifier"
   ]
  },
  {
   "cell_type": "code",
   "execution_count": 407,
   "id": "f831a3ec",
   "metadata": {
    "scrolled": true
   },
   "outputs": [],
   "source": [
    "cols=['creation_sources', 'org_id', 'invitees', 'email_domains']\n",
    "X=users[cols]\n",
    "y=users[['adopted']].values.ravel()\n",
    "X_train, X_test, y_train, y_test = train_test_split(X, y, test_size=0.5, random_state=16)"
   ]
  },
  {
   "cell_type": "code",
   "execution_count": 408,
   "id": "30afc5fd",
   "metadata": {},
   "outputs": [
    {
     "name": "stdout",
     "output_type": "stream",
     "text": [
      "Tuned XGB Classifier Parameter: {'colsample_bytree': 0.1, 'max_depth': 1, 'n_estimators': 300}\n",
      "Tuned XGB Classifier Score: 0.5836809719939973\n"
     ]
    }
   ],
   "source": [
    "param_grid={'n_estimators':[10, 50, 100, 300, 500],\n",
    "            'max_depth':[1, 3, 15, None],\n",
    "           'colsample_bytree':[0.1, 0.3, 0.5, 0.7, 1]}\n",
    "clf=XGBClassifier(random_state=16, use_label_encoder=False, eval_metric='logloss')\n",
    "xgb_cv=GridSearchCV(clf, param_grid, cv=10, scoring='roc_auc', n_jobs=-1)\n",
    "xgb_cv.fit(X_train, y_train)\n",
    "print(\"Tuned XGB Classifier Parameter: {}\".format(xgb_cv.best_params_))\n",
    "print(\"Tuned XGB Classifier Score: {}\".format(xgb_cv.best_score_))"
   ]
  },
  {
   "cell_type": "code",
   "execution_count": 410,
   "id": "a678a38d",
   "metadata": {},
   "outputs": [
    {
     "data": {
      "text/plain": [
       "0    7365\n",
       "1    1445\n",
       "Name: adopted, dtype: int64"
      ]
     },
     "execution_count": 410,
     "metadata": {},
     "output_type": "execute_result"
    }
   ],
   "source": [
    "users.adopted.value_counts()"
   ]
  },
  {
   "cell_type": "code",
   "execution_count": 411,
   "id": "707d3dae",
   "metadata": {},
   "outputs": [],
   "source": [
    "from random import sample\n",
    "sampledf=pd.concat([users[users.adopted==0].sample(1445), users[users.adopted==1]], ignore_index=True)"
   ]
  },
  {
   "cell_type": "code",
   "execution_count": 413,
   "id": "1cba4d9f",
   "metadata": {},
   "outputs": [
    {
     "data": {
      "text/plain": [
       "(2890, 22)"
      ]
     },
     "execution_count": 413,
     "metadata": {},
     "output_type": "execute_result"
    }
   ],
   "source": [
    "sampledf.shape"
   ]
  },
  {
   "cell_type": "code",
   "execution_count": 427,
   "id": "1e6e2926",
   "metadata": {},
   "outputs": [],
   "source": [
    "cols=['creation_sources', 'org_id', 'invitees', 'email_domains']\n",
    "X=sampledf[cols]\n",
    "y=sampledf[['adopted']].values.ravel()\n",
    "X_train, X_test, y_train, y_test = train_test_split(X, y, test_size=0.5, random_state=16)"
   ]
  },
  {
   "cell_type": "code",
   "execution_count": 416,
   "id": "b58d8845",
   "metadata": {},
   "outputs": [],
   "source": [
    "from sklearn.preprocessing import MinMaxScaler"
   ]
  },
  {
   "cell_type": "code",
   "execution_count": 428,
   "id": "bb1cc9ab",
   "metadata": {},
   "outputs": [],
   "source": [
    "scaler=MinMaxScaler().fit(X_train)\n",
    "X_train_scaled=scaler.transform(X_train)\n",
    "X_test_scaled=scaler.transform(X_test)"
   ]
  },
  {
   "cell_type": "code",
   "execution_count": 422,
   "id": "7721dccf",
   "metadata": {
    "scrolled": true
   },
   "outputs": [
    {
     "name": "stdout",
     "output_type": "stream",
     "text": [
      "Tuned XGB Classifier Parameter: {'colsample_bytree': 0.1, 'max_depth': 1, 'n_estimators': 10}\n",
      "Tuned XGB Classifier Score: 0.5819059963216641\n"
     ]
    }
   ],
   "source": [
    "param_grid={'n_estimators':[10, 50, 100, 300, 500],\n",
    "            'max_depth':[1, 3, 15, None],\n",
    "           'colsample_bytree':[0.1, 0.3, 0.5, 0.7, 1]}\n",
    "clf=XGBClassifier(random_state=16, use_label_encoder=False, eval_metric='logloss')\n",
    "xgb_cv=GridSearchCV(clf, param_grid, cv=10, scoring='roc_auc', n_jobs=-1)\n",
    "xgb_cv.fit(X_train_scaled, y_train)\n",
    "print(\"Tuned XGB Classifier Parameter: {}\".format(xgb_cv.best_params_))\n",
    "print(\"Tuned XGB Classifier Score: {}\".format(xgb_cv.best_score_))"
   ]
  },
  {
   "cell_type": "code",
   "execution_count": 423,
   "id": "2019f5ed",
   "metadata": {
    "scrolled": true
   },
   "outputs": [
    {
     "name": "stdout",
     "output_type": "stream",
     "text": [
      "Tuned Random Forest Parameter: {'criterion': 'gini', 'max_depth': 1, 'max_features': 'sqrt', 'n_estimators': 100}\n",
      "Tuned Random Forest Score: 0.5855025473532893\n"
     ]
    }
   ],
   "source": [
    "rf=RandomForestClassifier(random_state=16)\n",
    "param_grid={'n_estimators':[10, 50, 100, 300, 500, 700, 1000],\n",
    "            'criterion':['gini', 'entropy'],\n",
    "            'max_features':['sqrt', 'log2'],\n",
    "            'max_depth':[None, 1, 3, 5, 7, 15, 30]}\n",
    "rf_cv=GridSearchCV(rf, param_grid, scoring='roc_auc', cv=10)\n",
    "rf_cv.fit(X_train_scaled, y_train)\n",
    "print(\"Tuned Random Forest Parameter: {}\".format(rf_cv.best_params_))\n",
    "print(\"Tuned Random Forest Score: {}\".format(rf_cv.best_score_))"
   ]
  },
  {
   "cell_type": "code",
   "execution_count": 429,
   "id": "87d793a0",
   "metadata": {},
   "outputs": [],
   "source": [
    "clf=RandomForestClassifier(criterion='gini', max_depth=1, max_features='sqrt', n_estimators=100, random_state=16)\n",
    "clf.fit(X_train_scaled, y_train)\n",
    "y_pred=clf.predict(X_test_scaled)\n",
    "y_pred_prob=clf.predict_proba(X_test_scaled)[:,1]\n",
    "fpr, tpr, thresholds=roc_curve(y_test, y_pred_prob)"
   ]
  },
  {
   "cell_type": "code",
   "execution_count": 433,
   "id": "bc0e39bf",
   "metadata": {},
   "outputs": [
    {
     "data": {
      "text/plain": [
       "Index(['creation_sources', 'org_id', 'invitees', 'email_domains'], dtype='object')"
      ]
     },
     "execution_count": 433,
     "metadata": {},
     "output_type": "execute_result"
    }
   ],
   "source": [
    "X_test.columns"
   ]
  },
  {
   "cell_type": "code",
   "execution_count": 436,
   "id": "fccc40d5",
   "metadata": {
    "scrolled": false
   },
   "outputs": [
    {
     "data": {
      "image/png": "[encoded data removed]",
      "text/plain": [
       "<Figure size 576x360 with 2 Axes>"
      ]
     },
     "metadata": {
      "needs_background": "light"
     },
     "output_type": "display_data"
    }
   ],
   "source": [
    "import shap\n",
    "explainer=shap.TreeExplainer(clf)\n",
    "shap_values=explainer.shap_values(X_test_scaled)\n",
    "plt.figure(figsize=(8,5))\n",
    "shap.summary_plot(shap_values[1], X_test_scaled, feature_names=X_test.columns, plot_type='bar', color='lightblue', plot_size=None, show=False)\n",
    "shap.summary_plot(shap_values[1], X_test_scaled, feature_names=X_test.columns, plot_size=None, show=False, alpha=0.5)\n",
    "plt.show()"
   ]
  },
  {
   "cell_type": "markdown",
   "id": "ee0d0e2e",
   "metadata": {},
   "source": [
    "Users belonging to smaller organization groups (higher org_id) within the database are more likely to be adopted users. Users who invited more people were more likely to be adopted."
   ]
  },
  {
   "cell_type": "code",
   "execution_count": 444,
   "id": "17ed61e9",
   "metadata": {
    "scrolled": true
   },
   "outputs": [
    {
     "data": {
      "text/plain": [
       "adopted  creation_source     creation_sources\n",
       "0        ORG_INVITE          0.0                 516\n",
       "         SIGNUP              3.0                 323\n",
       "         SIGNUP_GOOGLE_AUTH  4.0                 249\n",
       "         GUEST_INVITE        1.0                 240\n",
       "         PERSONAL_PROJECTS   2.0                 117\n",
       "1        ORG_INVITE          0.0                 491\n",
       "         GUEST_INVITE        1.0                 326\n",
       "         SIGNUP              3.0                 275\n",
       "         SIGNUP_GOOGLE_AUTH  4.0                 206\n",
       "         PERSONAL_PROJECTS   2.0                 147\n",
       "dtype: int64"
      ]
     },
     "execution_count": 444,
     "metadata": {},
     "output_type": "execute_result"
    }
   ],
   "source": [
    "sampledf.groupby('adopted')[['creation_source', 'creation_sources']].value_counts()"
   ]
  },
  {
   "cell_type": "code",
   "execution_count": 449,
   "id": "99bf4dbb",
   "metadata": {},
   "outputs": [
    {
     "data": {
      "text/plain": [
       "creation_source     adopted\n",
       "GUEST_INVITE        1          0.575972\n",
       "                    0          0.424028\n",
       "ORG_INVITE          0          0.512413\n",
       "                    1          0.487587\n",
       "PERSONAL_PROJECTS   1          0.556818\n",
       "                    0          0.443182\n",
       "SIGNUP              0          0.540134\n",
       "                    1          0.459866\n",
       "SIGNUP_GOOGLE_AUTH  0          0.547253\n",
       "                    1          0.452747\n",
       "Name: adopted, dtype: float64"
      ]
     },
     "execution_count": 449,
     "metadata": {},
     "output_type": "execute_result"
    }
   ],
   "source": [
    "sampledf.groupby('creation_source').adopted.value_counts(normalize=True)"
   ]
  },
  {
   "cell_type": "code",
   "execution_count": 441,
   "id": "9c66cf6e",
   "metadata": {
    "scrolled": true
   },
   "outputs": [
    {
     "data": {
      "text/plain": [
       "adopted  creation_source     creation_sources\n",
       "0        ORG_INVITE          0.0                 2694\n",
       "         SIGNUP              3.0                 1619\n",
       "         GUEST_INVITE        1.0                 1260\n",
       "         SIGNUP_GOOGLE_AUTH  4.0                 1175\n",
       "         PERSONAL_PROJECTS   2.0                  617\n",
       "1        ORG_INVITE          0.0                  491\n",
       "         GUEST_INVITE        1.0                  326\n",
       "         SIGNUP              3.0                  275\n",
       "         SIGNUP_GOOGLE_AUTH  4.0                  206\n",
       "         PERSONAL_PROJECTS   2.0                  147\n",
       "dtype: int64"
      ]
     },
     "execution_count": 441,
     "metadata": {},
     "output_type": "execute_result"
    }
   ],
   "source": [
    "users.groupby('adopted')[['creation_source', 'creation_sources']].value_counts()"
   ]
  },
  {
   "cell_type": "code",
   "execution_count": 454,
   "id": "c7e3f3a1",
   "metadata": {},
   "outputs": [
    {
     "data": {
      "text/plain": [
       "0.0    0.331782\n",
       "1.0    0.195460\n",
       "2.0    0.100114\n",
       "3.0    0.095460\n",
       "4.0    0.093984\n",
       "5.0    0.091146\n",
       "7.0    0.090579\n",
       "6.0    0.001476\n",
       "Name: email_domains, dtype: float64"
      ]
     },
     "execution_count": 454,
     "metadata": {},
     "output_type": "execute_result"
    }
   ],
   "source": [
    "users.email_domains.value_counts(normalize=True)"
   ]
  }
 ],
 "metadata": {
  "kernelspec": {
   "display_name": "Python 3 (ipykernel)",
   "language": "python",
   "name": "python3"
  },
  "language_info": {
   "codemirror_mode": {
    "name": "ipython",
    "version": 3
   },
   "file_extension": ".py",
   "mimetype": "text/x-python",
   "name": "python",
   "nbconvert_exporter": "python",
   "pygments_lexer": "ipython3",
   "version": "3.9.13"
  },
  "toc": {
   "base_numbering": 1,
   "nav_menu": {},
   "number_sections": true,
   "sideBar": true,
   "skip_h1_title": false,
   "title_cell": "Table of Contents",
   "title_sidebar": "Contents",
   "toc_cell": false,
   "toc_position": {},
   "toc_section_display": true,
   "toc_window_display": false
  }
 },
 "nbformat": 4,
 "nbformat_minor": 5
}
